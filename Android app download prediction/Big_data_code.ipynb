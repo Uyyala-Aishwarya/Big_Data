{
  "cells": [
    {
      "cell_type": "code",
      "execution_count": 1,
      "id": "aa8dbb65",
      "metadata": {
        "papermill": {
          "duration": 1.488544,
          "end_time": "2023-02-02T15:39:50.522490",
          "exception": false,
          "start_time": "2023-02-02T15:39:49.033946",
          "status": "completed"
        },
        "tags": [],
        "id": "aa8dbb65"
      },
      "outputs": [],
      "source": [
        "import pandas as pd\n",
        "import numpy as np\n",
        "import seaborn as sns\n",
        "import matplotlib.pyplot as plt\n",
        "import matplotlib\n",
        "import re\n",
        "from datetime import datetime\n",
        "from IPython.display import HTML"
      ]
    },
    {
      "cell_type": "code",
      "execution_count": 2,
      "id": "734c3a69",
      "metadata": {
        "papermill": {
          "duration": 39.994183,
          "end_time": "2023-02-02T15:40:30.551794",
          "exception": false,
          "start_time": "2023-02-02T15:39:50.557611",
          "status": "completed"
        },
        "tags": [],
        "colab": {
          "base_uri": "https://localhost:8080/"
        },
        "id": "734c3a69",
        "outputId": "eeb35166-d91e-4395-c4fb-4b6a19a76806"
      },
      "outputs": [
        {
          "output_type": "stream",
          "name": "stderr",
          "text": [
            "<ipython-input-2-6824f427ba11>:1: DtypeWarning: Columns (20,21,22) have mixed types. Specify dtype option on import or set low_memory=False.\n",
            "  df=pd.read_csv('Google-Playstore.csv')\n"
          ]
        }
      ],
      "source": [
        "df=pd.read_csv('Google-Playstore.csv')"
      ]
    },
    {
      "cell_type": "code",
      "execution_count": 3,
      "id": "8704e12e",
      "metadata": {
        "papermill": {
          "duration": 0.04725,
          "end_time": "2023-02-02T15:40:30.631436",
          "exception": false,
          "start_time": "2023-02-02T15:40:30.584186",
          "status": "completed"
        },
        "tags": [],
        "colab": {
          "base_uri": "https://localhost:8080/"
        },
        "id": "8704e12e",
        "outputId": "758a51de-7b30-40ef-b262-9b22b3ca6a9b"
      },
      "outputs": [
        {
          "output_type": "execute_result",
          "data": {
            "text/plain": [
              "(215053, 24)"
            ]
          },
          "metadata": {},
          "execution_count": 3
        }
      ],
      "source": [
        "df.shape"
      ]
    },
    {
      "cell_type": "code",
      "execution_count": 4,
      "id": "ca1caee4",
      "metadata": {
        "papermill": {
          "duration": 0.085927,
          "end_time": "2023-02-02T15:40:30.750603",
          "exception": false,
          "start_time": "2023-02-02T15:40:30.664676",
          "status": "completed"
        },
        "tags": [],
        "colab": {
          "base_uri": "https://localhost:8080/",
          "height": 498
        },
        "id": "ca1caee4",
        "outputId": "eb8d4357-44ac-40fb-ffc2-2a388b2b9994"
      },
      "outputs": [
        {
          "output_type": "execute_result",
          "data": {
            "text/plain": [
              "                                            App Name  \\\n",
              "0                                            Gakondo   \n",
              "1                                Ampere Battery Info   \n",
              "2                                             Vibook   \n",
              "3  Smart City Trichy Public Service Vehicles 17UC...   \n",
              "4                                            GROW.me   \n",
              "\n",
              "                       App Id       Category  Rating  Rating Count Installs  \\\n",
              "0         com.ishakwe.gakondo      Adventure     0.0           0.0      10+   \n",
              "1  com.webserveis.batteryinfo          Tools     4.4          64.0   5,000+   \n",
              "2        com.doantiepvien.crm   Productivity     0.0           0.0      50+   \n",
              "3     cst.stJoseph.ug17ucs548  Communication     5.0           5.0      10+   \n",
              "4        com.horodyski.grower          Tools     0.0           0.0     100+   \n",
              "\n",
              "   Minimum Installs  Maximum Installs  Free  Price  ...  \\\n",
              "0              10.0                15  True    0.0  ...   \n",
              "1            5000.0              7662  True    0.0  ...   \n",
              "2              50.0                58  True    0.0  ...   \n",
              "3              10.0                19  True    0.0  ...   \n",
              "4             100.0               478  True    0.0  ...   \n",
              "\n",
              "                  Developer Website              Developer Email  \\\n",
              "0       https://beniyizibyose.tk/#/       jean21101999@gmail.com   \n",
              "1   https://webserveis.netlify.app/         webserveis@gmail.com   \n",
              "2                               NaN          vnacrewit@gmail.com   \n",
              "3  http://www.climatesmarttech.com/  climatesmarttech2@gmail.com   \n",
              "4       http://www.horodyski.com.pl    rmilekhorodyski@gmail.com   \n",
              "\n",
              "       Released  Last Updated Content Rating  \\\n",
              "0  Feb 26, 2020  Feb 26, 2020       Everyone   \n",
              "1  May 21, 2020  May 06, 2021       Everyone   \n",
              "2   Aug 9, 2019  Aug 19, 2019       Everyone   \n",
              "3  Sep 10, 2018  Oct 13, 2018       Everyone   \n",
              "4  Feb 21, 2020  Nov 12, 2018       Everyone   \n",
              "\n",
              "                                      Privacy Policy Ad Supported  \\\n",
              "0                 https://beniyizibyose.tk/projects/        False   \n",
              "1  https://dev4phones.wordpress.com/licencia-de-uso/         True   \n",
              "2  https://www.vietnamairlines.com/vn/en/terms-an...        False   \n",
              "3                                                NaN         True   \n",
              "4                        http://www.horodyski.com.pl        False   \n",
              "\n",
              "  In App Purchases Editors Choice         Scraped Time  \n",
              "0            False          False  2021-06-15 20:19:35  \n",
              "1            False          False  2021-06-15 20:19:35  \n",
              "2            False          False  2021-06-15 20:19:35  \n",
              "3            False          False  2021-06-15 20:19:35  \n",
              "4            False          False  2021-06-15 20:19:35  \n",
              "\n",
              "[5 rows x 24 columns]"
            ],
            "text/html": [
              "\n",
              "  <div id=\"df-e1a5c441-141f-4026-af3b-88e9019f293f\" class=\"colab-df-container\">\n",
              "    <div>\n",
              "<style scoped>\n",
              "    .dataframe tbody tr th:only-of-type {\n",
              "        vertical-align: middle;\n",
              "    }\n",
              "\n",
              "    .dataframe tbody tr th {\n",
              "        vertical-align: top;\n",
              "    }\n",
              "\n",
              "    .dataframe thead th {\n",
              "        text-align: right;\n",
              "    }\n",
              "</style>\n",
              "<table border=\"1\" class=\"dataframe\">\n",
              "  <thead>\n",
              "    <tr style=\"text-align: right;\">\n",
              "      <th></th>\n",
              "      <th>App Name</th>\n",
              "      <th>App Id</th>\n",
              "      <th>Category</th>\n",
              "      <th>Rating</th>\n",
              "      <th>Rating Count</th>\n",
              "      <th>Installs</th>\n",
              "      <th>Minimum Installs</th>\n",
              "      <th>Maximum Installs</th>\n",
              "      <th>Free</th>\n",
              "      <th>Price</th>\n",
              "      <th>...</th>\n",
              "      <th>Developer Website</th>\n",
              "      <th>Developer Email</th>\n",
              "      <th>Released</th>\n",
              "      <th>Last Updated</th>\n",
              "      <th>Content Rating</th>\n",
              "      <th>Privacy Policy</th>\n",
              "      <th>Ad Supported</th>\n",
              "      <th>In App Purchases</th>\n",
              "      <th>Editors Choice</th>\n",
              "      <th>Scraped Time</th>\n",
              "    </tr>\n",
              "  </thead>\n",
              "  <tbody>\n",
              "    <tr>\n",
              "      <th>0</th>\n",
              "      <td>Gakondo</td>\n",
              "      <td>com.ishakwe.gakondo</td>\n",
              "      <td>Adventure</td>\n",
              "      <td>0.0</td>\n",
              "      <td>0.0</td>\n",
              "      <td>10+</td>\n",
              "      <td>10.0</td>\n",
              "      <td>15</td>\n",
              "      <td>True</td>\n",
              "      <td>0.0</td>\n",
              "      <td>...</td>\n",
              "      <td>https://beniyizibyose.tk/#/</td>\n",
              "      <td>jean21101999@gmail.com</td>\n",
              "      <td>Feb 26, 2020</td>\n",
              "      <td>Feb 26, 2020</td>\n",
              "      <td>Everyone</td>\n",
              "      <td>https://beniyizibyose.tk/projects/</td>\n",
              "      <td>False</td>\n",
              "      <td>False</td>\n",
              "      <td>False</td>\n",
              "      <td>2021-06-15 20:19:35</td>\n",
              "    </tr>\n",
              "    <tr>\n",
              "      <th>1</th>\n",
              "      <td>Ampere Battery Info</td>\n",
              "      <td>com.webserveis.batteryinfo</td>\n",
              "      <td>Tools</td>\n",
              "      <td>4.4</td>\n",
              "      <td>64.0</td>\n",
              "      <td>5,000+</td>\n",
              "      <td>5000.0</td>\n",
              "      <td>7662</td>\n",
              "      <td>True</td>\n",
              "      <td>0.0</td>\n",
              "      <td>...</td>\n",
              "      <td>https://webserveis.netlify.app/</td>\n",
              "      <td>webserveis@gmail.com</td>\n",
              "      <td>May 21, 2020</td>\n",
              "      <td>May 06, 2021</td>\n",
              "      <td>Everyone</td>\n",
              "      <td>https://dev4phones.wordpress.com/licencia-de-uso/</td>\n",
              "      <td>True</td>\n",
              "      <td>False</td>\n",
              "      <td>False</td>\n",
              "      <td>2021-06-15 20:19:35</td>\n",
              "    </tr>\n",
              "    <tr>\n",
              "      <th>2</th>\n",
              "      <td>Vibook</td>\n",
              "      <td>com.doantiepvien.crm</td>\n",
              "      <td>Productivity</td>\n",
              "      <td>0.0</td>\n",
              "      <td>0.0</td>\n",
              "      <td>50+</td>\n",
              "      <td>50.0</td>\n",
              "      <td>58</td>\n",
              "      <td>True</td>\n",
              "      <td>0.0</td>\n",
              "      <td>...</td>\n",
              "      <td>NaN</td>\n",
              "      <td>vnacrewit@gmail.com</td>\n",
              "      <td>Aug 9, 2019</td>\n",
              "      <td>Aug 19, 2019</td>\n",
              "      <td>Everyone</td>\n",
              "      <td>https://www.vietnamairlines.com/vn/en/terms-an...</td>\n",
              "      <td>False</td>\n",
              "      <td>False</td>\n",
              "      <td>False</td>\n",
              "      <td>2021-06-15 20:19:35</td>\n",
              "    </tr>\n",
              "    <tr>\n",
              "      <th>3</th>\n",
              "      <td>Smart City Trichy Public Service Vehicles 17UC...</td>\n",
              "      <td>cst.stJoseph.ug17ucs548</td>\n",
              "      <td>Communication</td>\n",
              "      <td>5.0</td>\n",
              "      <td>5.0</td>\n",
              "      <td>10+</td>\n",
              "      <td>10.0</td>\n",
              "      <td>19</td>\n",
              "      <td>True</td>\n",
              "      <td>0.0</td>\n",
              "      <td>...</td>\n",
              "      <td>http://www.climatesmarttech.com/</td>\n",
              "      <td>climatesmarttech2@gmail.com</td>\n",
              "      <td>Sep 10, 2018</td>\n",
              "      <td>Oct 13, 2018</td>\n",
              "      <td>Everyone</td>\n",
              "      <td>NaN</td>\n",
              "      <td>True</td>\n",
              "      <td>False</td>\n",
              "      <td>False</td>\n",
              "      <td>2021-06-15 20:19:35</td>\n",
              "    </tr>\n",
              "    <tr>\n",
              "      <th>4</th>\n",
              "      <td>GROW.me</td>\n",
              "      <td>com.horodyski.grower</td>\n",
              "      <td>Tools</td>\n",
              "      <td>0.0</td>\n",
              "      <td>0.0</td>\n",
              "      <td>100+</td>\n",
              "      <td>100.0</td>\n",
              "      <td>478</td>\n",
              "      <td>True</td>\n",
              "      <td>0.0</td>\n",
              "      <td>...</td>\n",
              "      <td>http://www.horodyski.com.pl</td>\n",
              "      <td>rmilekhorodyski@gmail.com</td>\n",
              "      <td>Feb 21, 2020</td>\n",
              "      <td>Nov 12, 2018</td>\n",
              "      <td>Everyone</td>\n",
              "      <td>http://www.horodyski.com.pl</td>\n",
              "      <td>False</td>\n",
              "      <td>False</td>\n",
              "      <td>False</td>\n",
              "      <td>2021-06-15 20:19:35</td>\n",
              "    </tr>\n",
              "  </tbody>\n",
              "</table>\n",
              "<p>5 rows × 24 columns</p>\n",
              "</div>\n",
              "    <div class=\"colab-df-buttons\">\n",
              "\n",
              "  <div class=\"colab-df-container\">\n",
              "    <button class=\"colab-df-convert\" onclick=\"convertToInteractive('df-e1a5c441-141f-4026-af3b-88e9019f293f')\"\n",
              "            title=\"Convert this dataframe to an interactive table.\"\n",
              "            style=\"display:none;\">\n",
              "\n",
              "  <svg xmlns=\"http://www.w3.org/2000/svg\" height=\"24px\" viewBox=\"0 -960 960 960\">\n",
              "    <path d=\"M120-120v-720h720v720H120Zm60-500h600v-160H180v160Zm220 220h160v-160H400v160Zm0 220h160v-160H400v160ZM180-400h160v-160H180v160Zm440 0h160v-160H620v160ZM180-180h160v-160H180v160Zm440 0h160v-160H620v160Z\"/>\n",
              "  </svg>\n",
              "    </button>\n",
              "\n",
              "  <style>\n",
              "    .colab-df-container {\n",
              "      display:flex;\n",
              "      gap: 12px;\n",
              "    }\n",
              "\n",
              "    .colab-df-convert {\n",
              "      background-color: #E8F0FE;\n",
              "      border: none;\n",
              "      border-radius: 50%;\n",
              "      cursor: pointer;\n",
              "      display: none;\n",
              "      fill: #1967D2;\n",
              "      height: 32px;\n",
              "      padding: 0 0 0 0;\n",
              "      width: 32px;\n",
              "    }\n",
              "\n",
              "    .colab-df-convert:hover {\n",
              "      background-color: #E2EBFA;\n",
              "      box-shadow: 0px 1px 2px rgba(60, 64, 67, 0.3), 0px 1px 3px 1px rgba(60, 64, 67, 0.15);\n",
              "      fill: #174EA6;\n",
              "    }\n",
              "\n",
              "    .colab-df-buttons div {\n",
              "      margin-bottom: 4px;\n",
              "    }\n",
              "\n",
              "    [theme=dark] .colab-df-convert {\n",
              "      background-color: #3B4455;\n",
              "      fill: #D2E3FC;\n",
              "    }\n",
              "\n",
              "    [theme=dark] .colab-df-convert:hover {\n",
              "      background-color: #434B5C;\n",
              "      box-shadow: 0px 1px 3px 1px rgba(0, 0, 0, 0.15);\n",
              "      filter: drop-shadow(0px 1px 2px rgba(0, 0, 0, 0.3));\n",
              "      fill: #FFFFFF;\n",
              "    }\n",
              "  </style>\n",
              "\n",
              "    <script>\n",
              "      const buttonEl =\n",
              "        document.querySelector('#df-e1a5c441-141f-4026-af3b-88e9019f293f button.colab-df-convert');\n",
              "      buttonEl.style.display =\n",
              "        google.colab.kernel.accessAllowed ? 'block' : 'none';\n",
              "\n",
              "      async function convertToInteractive(key) {\n",
              "        const element = document.querySelector('#df-e1a5c441-141f-4026-af3b-88e9019f293f');\n",
              "        const dataTable =\n",
              "          await google.colab.kernel.invokeFunction('convertToInteractive',\n",
              "                                                    [key], {});\n",
              "        if (!dataTable) return;\n",
              "\n",
              "        const docLinkHtml = 'Like what you see? Visit the ' +\n",
              "          '<a target=\"_blank\" href=https://colab.research.google.com/notebooks/data_table.ipynb>data table notebook</a>'\n",
              "          + ' to learn more about interactive tables.';\n",
              "        element.innerHTML = '';\n",
              "        dataTable['output_type'] = 'display_data';\n",
              "        await google.colab.output.renderOutput(dataTable, element);\n",
              "        const docLink = document.createElement('div');\n",
              "        docLink.innerHTML = docLinkHtml;\n",
              "        element.appendChild(docLink);\n",
              "      }\n",
              "    </script>\n",
              "  </div>\n",
              "\n",
              "\n",
              "<div id=\"df-102db2c0-afab-4d39-b421-4edaa3b47cb0\">\n",
              "  <button class=\"colab-df-quickchart\" onclick=\"quickchart('df-102db2c0-afab-4d39-b421-4edaa3b47cb0')\"\n",
              "            title=\"Suggest charts\"\n",
              "            style=\"display:none;\">\n",
              "\n",
              "<svg xmlns=\"http://www.w3.org/2000/svg\" height=\"24px\"viewBox=\"0 0 24 24\"\n",
              "     width=\"24px\">\n",
              "    <g>\n",
              "        <path d=\"M19 3H5c-1.1 0-2 .9-2 2v14c0 1.1.9 2 2 2h14c1.1 0 2-.9 2-2V5c0-1.1-.9-2-2-2zM9 17H7v-7h2v7zm4 0h-2V7h2v10zm4 0h-2v-4h2v4z\"/>\n",
              "    </g>\n",
              "</svg>\n",
              "  </button>\n",
              "\n",
              "<style>\n",
              "  .colab-df-quickchart {\n",
              "      --bg-color: #E8F0FE;\n",
              "      --fill-color: #1967D2;\n",
              "      --hover-bg-color: #E2EBFA;\n",
              "      --hover-fill-color: #174EA6;\n",
              "      --disabled-fill-color: #AAA;\n",
              "      --disabled-bg-color: #DDD;\n",
              "  }\n",
              "\n",
              "  [theme=dark] .colab-df-quickchart {\n",
              "      --bg-color: #3B4455;\n",
              "      --fill-color: #D2E3FC;\n",
              "      --hover-bg-color: #434B5C;\n",
              "      --hover-fill-color: #FFFFFF;\n",
              "      --disabled-bg-color: #3B4455;\n",
              "      --disabled-fill-color: #666;\n",
              "  }\n",
              "\n",
              "  .colab-df-quickchart {\n",
              "    background-color: var(--bg-color);\n",
              "    border: none;\n",
              "    border-radius: 50%;\n",
              "    cursor: pointer;\n",
              "    display: none;\n",
              "    fill: var(--fill-color);\n",
              "    height: 32px;\n",
              "    padding: 0;\n",
              "    width: 32px;\n",
              "  }\n",
              "\n",
              "  .colab-df-quickchart:hover {\n",
              "    background-color: var(--hover-bg-color);\n",
              "    box-shadow: 0 1px 2px rgba(60, 64, 67, 0.3), 0 1px 3px 1px rgba(60, 64, 67, 0.15);\n",
              "    fill: var(--button-hover-fill-color);\n",
              "  }\n",
              "\n",
              "  .colab-df-quickchart-complete:disabled,\n",
              "  .colab-df-quickchart-complete:disabled:hover {\n",
              "    background-color: var(--disabled-bg-color);\n",
              "    fill: var(--disabled-fill-color);\n",
              "    box-shadow: none;\n",
              "  }\n",
              "\n",
              "  .colab-df-spinner {\n",
              "    border: 2px solid var(--fill-color);\n",
              "    border-color: transparent;\n",
              "    border-bottom-color: var(--fill-color);\n",
              "    animation:\n",
              "      spin 1s steps(1) infinite;\n",
              "  }\n",
              "\n",
              "  @keyframes spin {\n",
              "    0% {\n",
              "      border-color: transparent;\n",
              "      border-bottom-color: var(--fill-color);\n",
              "      border-left-color: var(--fill-color);\n",
              "    }\n",
              "    20% {\n",
              "      border-color: transparent;\n",
              "      border-left-color: var(--fill-color);\n",
              "      border-top-color: var(--fill-color);\n",
              "    }\n",
              "    30% {\n",
              "      border-color: transparent;\n",
              "      border-left-color: var(--fill-color);\n",
              "      border-top-color: var(--fill-color);\n",
              "      border-right-color: var(--fill-color);\n",
              "    }\n",
              "    40% {\n",
              "      border-color: transparent;\n",
              "      border-right-color: var(--fill-color);\n",
              "      border-top-color: var(--fill-color);\n",
              "    }\n",
              "    60% {\n",
              "      border-color: transparent;\n",
              "      border-right-color: var(--fill-color);\n",
              "    }\n",
              "    80% {\n",
              "      border-color: transparent;\n",
              "      border-right-color: var(--fill-color);\n",
              "      border-bottom-color: var(--fill-color);\n",
              "    }\n",
              "    90% {\n",
              "      border-color: transparent;\n",
              "      border-bottom-color: var(--fill-color);\n",
              "    }\n",
              "  }\n",
              "</style>\n",
              "\n",
              "  <script>\n",
              "    async function quickchart(key) {\n",
              "      const quickchartButtonEl =\n",
              "        document.querySelector('#' + key + ' button');\n",
              "      quickchartButtonEl.disabled = true;  // To prevent multiple clicks.\n",
              "      quickchartButtonEl.classList.add('colab-df-spinner');\n",
              "      try {\n",
              "        const charts = await google.colab.kernel.invokeFunction(\n",
              "            'suggestCharts', [key], {});\n",
              "      } catch (error) {\n",
              "        console.error('Error during call to suggestCharts:', error);\n",
              "      }\n",
              "      quickchartButtonEl.classList.remove('colab-df-spinner');\n",
              "      quickchartButtonEl.classList.add('colab-df-quickchart-complete');\n",
              "    }\n",
              "    (() => {\n",
              "      let quickchartButtonEl =\n",
              "        document.querySelector('#df-102db2c0-afab-4d39-b421-4edaa3b47cb0 button');\n",
              "      quickchartButtonEl.style.display =\n",
              "        google.colab.kernel.accessAllowed ? 'block' : 'none';\n",
              "    })();\n",
              "  </script>\n",
              "</div>\n",
              "\n",
              "    </div>\n",
              "  </div>\n"
            ],
            "application/vnd.google.colaboratory.intrinsic+json": {
              "type": "dataframe",
              "variable_name": "df"
            }
          },
          "metadata": {},
          "execution_count": 4
        }
      ],
      "source": [
        "df.head()"
      ]
    },
    {
      "cell_type": "code",
      "execution_count": 5,
      "id": "e809aeda-77f7-4a3a-be02-835eaede7069",
      "metadata": {
        "colab": {
          "base_uri": "https://localhost:8080/"
        },
        "id": "e809aeda-77f7-4a3a-be02-835eaede7069",
        "outputId": "fc2ee7d1-1a15-44f0-e086-ef35c664370e"
      },
      "outputs": [
        {
          "output_type": "stream",
          "name": "stdout",
          "text": [
            "Index(['App Name', 'App Id', 'Category', 'Rating', 'Rating Count', 'Installs',\n",
            "       'Minimum Installs', 'Maximum Installs', 'Free', 'Price', 'Currency',\n",
            "       'Size', 'Minimum Android', 'Developer Id', 'Developer Website',\n",
            "       'Developer Email', 'Released', 'Last Updated', 'Content Rating',\n",
            "       'Privacy Policy', 'Ad Supported', 'In App Purchases', 'Editors Choice',\n",
            "       'Scraped Time'],\n",
            "      dtype='object')\n"
          ]
        }
      ],
      "source": [
        "print(df.columns)"
      ]
    },
    {
      "cell_type": "code",
      "execution_count": 6,
      "id": "6583c7c9-071b-45bd-a267-983b7896c2cf",
      "metadata": {
        "colab": {
          "base_uri": "https://localhost:8080/"
        },
        "id": "6583c7c9-071b-45bd-a267-983b7896c2cf",
        "outputId": "7c82aa42-58ff-42a5-8916-4b417afef442"
      },
      "outputs": [
        {
          "output_type": "stream",
          "name": "stdout",
          "text": [
            "App Name                 1\n",
            "App Id                   0\n",
            "Category                 0\n",
            "Rating                2101\n",
            "Rating Count          2101\n",
            "Installs                15\n",
            "Minimum Installs        15\n",
            "Maximum Installs         0\n",
            "Free                     0\n",
            "Price                    0\n",
            "Currency                25\n",
            "Size                    15\n",
            "Minimum Android        617\n",
            "Developer Id             1\n",
            "Developer Website    70601\n",
            "Developer Email          2\n",
            "Released              6560\n",
            "Last Updated             1\n",
            "Content Rating           1\n",
            "Privacy Policy       38922\n",
            "Ad Supported             1\n",
            "In App Purchases         1\n",
            "Editors Choice           1\n",
            "Scraped Time             1\n",
            "dtype: int64\n"
          ]
        }
      ],
      "source": [
        "print(df.isna().sum())"
      ]
    },
    {
      "cell_type": "code",
      "execution_count": 7,
      "id": "ab80b5b0",
      "metadata": {
        "papermill": {
          "duration": 0.066365,
          "end_time": "2023-02-02T15:40:30.848326",
          "exception": false,
          "start_time": "2023-02-02T15:40:30.781961",
          "status": "completed"
        },
        "tags": [],
        "colab": {
          "base_uri": "https://localhost:8080/"
        },
        "id": "ab80b5b0",
        "outputId": "5443d390-1997-435d-d036-7a2b6296ced3"
      },
      "outputs": [
        {
          "output_type": "stream",
          "name": "stdout",
          "text": [
            "<class 'pandas.core.frame.DataFrame'>\n",
            "RangeIndex: 215053 entries, 0 to 215052\n",
            "Data columns (total 24 columns):\n",
            " #   Column             Non-Null Count   Dtype  \n",
            "---  ------             --------------   -----  \n",
            " 0   App Name           215052 non-null  object \n",
            " 1   App Id             215053 non-null  object \n",
            " 2   Category           215053 non-null  object \n",
            " 3   Rating             212952 non-null  float64\n",
            " 4   Rating Count       212952 non-null  float64\n",
            " 5   Installs           215038 non-null  object \n",
            " 6   Minimum Installs   215038 non-null  float64\n",
            " 7   Maximum Installs   215053 non-null  int64  \n",
            " 8   Free               215053 non-null  bool   \n",
            " 9   Price              215053 non-null  float64\n",
            " 10  Currency           215028 non-null  object \n",
            " 11  Size               215038 non-null  object \n",
            " 12  Minimum Android    214436 non-null  object \n",
            " 13  Developer Id       215052 non-null  object \n",
            " 14  Developer Website  144452 non-null  object \n",
            " 15  Developer Email    215051 non-null  object \n",
            " 16  Released           208493 non-null  object \n",
            " 17  Last Updated       215052 non-null  object \n",
            " 18  Content Rating     215052 non-null  object \n",
            " 19  Privacy Policy     176131 non-null  object \n",
            " 20  Ad Supported       215052 non-null  object \n",
            " 21  In App Purchases   215052 non-null  object \n",
            " 22  Editors Choice     215052 non-null  object \n",
            " 23  Scraped Time       215052 non-null  object \n",
            "dtypes: bool(1), float64(4), int64(1), object(18)\n",
            "memory usage: 37.9+ MB\n"
          ]
        }
      ],
      "source": [
        "df.info()"
      ]
    },
    {
      "cell_type": "code",
      "execution_count": 8,
      "id": "f1763f8b",
      "metadata": {
        "papermill": {
          "duration": 0.742709,
          "end_time": "2023-02-02T15:40:31.624173",
          "exception": false,
          "start_time": "2023-02-02T15:40:30.881464",
          "status": "completed"
        },
        "tags": [],
        "colab": {
          "base_uri": "https://localhost:8080/",
          "height": 300
        },
        "id": "f1763f8b",
        "outputId": "f72e8776-e051-4c9d-939b-d1ff41fc6937"
      },
      "outputs": [
        {
          "output_type": "execute_result",
          "data": {
            "text/plain": [
              "              Rating  Rating Count  Minimum Installs  Maximum Installs  \\\n",
              "count  212952.000000  2.129520e+05      2.150380e+05      2.150530e+05   \n",
              "mean        2.202873  2.609836e+03      1.775935e+05      2.930703e+05   \n",
              "std         2.107092  1.331607e+05      1.249038e+07      1.648505e+07   \n",
              "min         0.000000  0.000000e+00      0.000000e+00      0.000000e+00   \n",
              "25%         0.000000  0.000000e+00      5.000000e+01      8.300000e+01   \n",
              "50%         2.900000  6.000000e+00      5.000000e+02      6.990000e+02   \n",
              "75%         4.300000  4.300000e+01      5.000000e+03      7.440000e+03   \n",
              "max         5.000000  3.747901e+07      5.000000e+09      6.156519e+09   \n",
              "\n",
              "               Price  \n",
              "count  215053.000000  \n",
              "mean        0.092754  \n",
              "std         1.810658  \n",
              "min         0.000000  \n",
              "25%         0.000000  \n",
              "50%         0.000000  \n",
              "75%         0.000000  \n",
              "max       399.990000  "
            ],
            "text/html": [
              "\n",
              "  <div id=\"df-c5c240f2-7c25-4e09-ae23-0ccbac93c232\" class=\"colab-df-container\">\n",
              "    <div>\n",
              "<style scoped>\n",
              "    .dataframe tbody tr th:only-of-type {\n",
              "        vertical-align: middle;\n",
              "    }\n",
              "\n",
              "    .dataframe tbody tr th {\n",
              "        vertical-align: top;\n",
              "    }\n",
              "\n",
              "    .dataframe thead th {\n",
              "        text-align: right;\n",
              "    }\n",
              "</style>\n",
              "<table border=\"1\" class=\"dataframe\">\n",
              "  <thead>\n",
              "    <tr style=\"text-align: right;\">\n",
              "      <th></th>\n",
              "      <th>Rating</th>\n",
              "      <th>Rating Count</th>\n",
              "      <th>Minimum Installs</th>\n",
              "      <th>Maximum Installs</th>\n",
              "      <th>Price</th>\n",
              "    </tr>\n",
              "  </thead>\n",
              "  <tbody>\n",
              "    <tr>\n",
              "      <th>count</th>\n",
              "      <td>212952.000000</td>\n",
              "      <td>2.129520e+05</td>\n",
              "      <td>2.150380e+05</td>\n",
              "      <td>2.150530e+05</td>\n",
              "      <td>215053.000000</td>\n",
              "    </tr>\n",
              "    <tr>\n",
              "      <th>mean</th>\n",
              "      <td>2.202873</td>\n",
              "      <td>2.609836e+03</td>\n",
              "      <td>1.775935e+05</td>\n",
              "      <td>2.930703e+05</td>\n",
              "      <td>0.092754</td>\n",
              "    </tr>\n",
              "    <tr>\n",
              "      <th>std</th>\n",
              "      <td>2.107092</td>\n",
              "      <td>1.331607e+05</td>\n",
              "      <td>1.249038e+07</td>\n",
              "      <td>1.648505e+07</td>\n",
              "      <td>1.810658</td>\n",
              "    </tr>\n",
              "    <tr>\n",
              "      <th>min</th>\n",
              "      <td>0.000000</td>\n",
              "      <td>0.000000e+00</td>\n",
              "      <td>0.000000e+00</td>\n",
              "      <td>0.000000e+00</td>\n",
              "      <td>0.000000</td>\n",
              "    </tr>\n",
              "    <tr>\n",
              "      <th>25%</th>\n",
              "      <td>0.000000</td>\n",
              "      <td>0.000000e+00</td>\n",
              "      <td>5.000000e+01</td>\n",
              "      <td>8.300000e+01</td>\n",
              "      <td>0.000000</td>\n",
              "    </tr>\n",
              "    <tr>\n",
              "      <th>50%</th>\n",
              "      <td>2.900000</td>\n",
              "      <td>6.000000e+00</td>\n",
              "      <td>5.000000e+02</td>\n",
              "      <td>6.990000e+02</td>\n",
              "      <td>0.000000</td>\n",
              "    </tr>\n",
              "    <tr>\n",
              "      <th>75%</th>\n",
              "      <td>4.300000</td>\n",
              "      <td>4.300000e+01</td>\n",
              "      <td>5.000000e+03</td>\n",
              "      <td>7.440000e+03</td>\n",
              "      <td>0.000000</td>\n",
              "    </tr>\n",
              "    <tr>\n",
              "      <th>max</th>\n",
              "      <td>5.000000</td>\n",
              "      <td>3.747901e+07</td>\n",
              "      <td>5.000000e+09</td>\n",
              "      <td>6.156519e+09</td>\n",
              "      <td>399.990000</td>\n",
              "    </tr>\n",
              "  </tbody>\n",
              "</table>\n",
              "</div>\n",
              "    <div class=\"colab-df-buttons\">\n",
              "\n",
              "  <div class=\"colab-df-container\">\n",
              "    <button class=\"colab-df-convert\" onclick=\"convertToInteractive('df-c5c240f2-7c25-4e09-ae23-0ccbac93c232')\"\n",
              "            title=\"Convert this dataframe to an interactive table.\"\n",
              "            style=\"display:none;\">\n",
              "\n",
              "  <svg xmlns=\"http://www.w3.org/2000/svg\" height=\"24px\" viewBox=\"0 -960 960 960\">\n",
              "    <path d=\"M120-120v-720h720v720H120Zm60-500h600v-160H180v160Zm220 220h160v-160H400v160Zm0 220h160v-160H400v160ZM180-400h160v-160H180v160Zm440 0h160v-160H620v160ZM180-180h160v-160H180v160Zm440 0h160v-160H620v160Z\"/>\n",
              "  </svg>\n",
              "    </button>\n",
              "\n",
              "  <style>\n",
              "    .colab-df-container {\n",
              "      display:flex;\n",
              "      gap: 12px;\n",
              "    }\n",
              "\n",
              "    .colab-df-convert {\n",
              "      background-color: #E8F0FE;\n",
              "      border: none;\n",
              "      border-radius: 50%;\n",
              "      cursor: pointer;\n",
              "      display: none;\n",
              "      fill: #1967D2;\n",
              "      height: 32px;\n",
              "      padding: 0 0 0 0;\n",
              "      width: 32px;\n",
              "    }\n",
              "\n",
              "    .colab-df-convert:hover {\n",
              "      background-color: #E2EBFA;\n",
              "      box-shadow: 0px 1px 2px rgba(60, 64, 67, 0.3), 0px 1px 3px 1px rgba(60, 64, 67, 0.15);\n",
              "      fill: #174EA6;\n",
              "    }\n",
              "\n",
              "    .colab-df-buttons div {\n",
              "      margin-bottom: 4px;\n",
              "    }\n",
              "\n",
              "    [theme=dark] .colab-df-convert {\n",
              "      background-color: #3B4455;\n",
              "      fill: #D2E3FC;\n",
              "    }\n",
              "\n",
              "    [theme=dark] .colab-df-convert:hover {\n",
              "      background-color: #434B5C;\n",
              "      box-shadow: 0px 1px 3px 1px rgba(0, 0, 0, 0.15);\n",
              "      filter: drop-shadow(0px 1px 2px rgba(0, 0, 0, 0.3));\n",
              "      fill: #FFFFFF;\n",
              "    }\n",
              "  </style>\n",
              "\n",
              "    <script>\n",
              "      const buttonEl =\n",
              "        document.querySelector('#df-c5c240f2-7c25-4e09-ae23-0ccbac93c232 button.colab-df-convert');\n",
              "      buttonEl.style.display =\n",
              "        google.colab.kernel.accessAllowed ? 'block' : 'none';\n",
              "\n",
              "      async function convertToInteractive(key) {\n",
              "        const element = document.querySelector('#df-c5c240f2-7c25-4e09-ae23-0ccbac93c232');\n",
              "        const dataTable =\n",
              "          await google.colab.kernel.invokeFunction('convertToInteractive',\n",
              "                                                    [key], {});\n",
              "        if (!dataTable) return;\n",
              "\n",
              "        const docLinkHtml = 'Like what you see? Visit the ' +\n",
              "          '<a target=\"_blank\" href=https://colab.research.google.com/notebooks/data_table.ipynb>data table notebook</a>'\n",
              "          + ' to learn more about interactive tables.';\n",
              "        element.innerHTML = '';\n",
              "        dataTable['output_type'] = 'display_data';\n",
              "        await google.colab.output.renderOutput(dataTable, element);\n",
              "        const docLink = document.createElement('div');\n",
              "        docLink.innerHTML = docLinkHtml;\n",
              "        element.appendChild(docLink);\n",
              "      }\n",
              "    </script>\n",
              "  </div>\n",
              "\n",
              "\n",
              "<div id=\"df-7e575df6-750a-4d67-9140-8e3c0f5d0a28\">\n",
              "  <button class=\"colab-df-quickchart\" onclick=\"quickchart('df-7e575df6-750a-4d67-9140-8e3c0f5d0a28')\"\n",
              "            title=\"Suggest charts\"\n",
              "            style=\"display:none;\">\n",
              "\n",
              "<svg xmlns=\"http://www.w3.org/2000/svg\" height=\"24px\"viewBox=\"0 0 24 24\"\n",
              "     width=\"24px\">\n",
              "    <g>\n",
              "        <path d=\"M19 3H5c-1.1 0-2 .9-2 2v14c0 1.1.9 2 2 2h14c1.1 0 2-.9 2-2V5c0-1.1-.9-2-2-2zM9 17H7v-7h2v7zm4 0h-2V7h2v10zm4 0h-2v-4h2v4z\"/>\n",
              "    </g>\n",
              "</svg>\n",
              "  </button>\n",
              "\n",
              "<style>\n",
              "  .colab-df-quickchart {\n",
              "      --bg-color: #E8F0FE;\n",
              "      --fill-color: #1967D2;\n",
              "      --hover-bg-color: #E2EBFA;\n",
              "      --hover-fill-color: #174EA6;\n",
              "      --disabled-fill-color: #AAA;\n",
              "      --disabled-bg-color: #DDD;\n",
              "  }\n",
              "\n",
              "  [theme=dark] .colab-df-quickchart {\n",
              "      --bg-color: #3B4455;\n",
              "      --fill-color: #D2E3FC;\n",
              "      --hover-bg-color: #434B5C;\n",
              "      --hover-fill-color: #FFFFFF;\n",
              "      --disabled-bg-color: #3B4455;\n",
              "      --disabled-fill-color: #666;\n",
              "  }\n",
              "\n",
              "  .colab-df-quickchart {\n",
              "    background-color: var(--bg-color);\n",
              "    border: none;\n",
              "    border-radius: 50%;\n",
              "    cursor: pointer;\n",
              "    display: none;\n",
              "    fill: var(--fill-color);\n",
              "    height: 32px;\n",
              "    padding: 0;\n",
              "    width: 32px;\n",
              "  }\n",
              "\n",
              "  .colab-df-quickchart:hover {\n",
              "    background-color: var(--hover-bg-color);\n",
              "    box-shadow: 0 1px 2px rgba(60, 64, 67, 0.3), 0 1px 3px 1px rgba(60, 64, 67, 0.15);\n",
              "    fill: var(--button-hover-fill-color);\n",
              "  }\n",
              "\n",
              "  .colab-df-quickchart-complete:disabled,\n",
              "  .colab-df-quickchart-complete:disabled:hover {\n",
              "    background-color: var(--disabled-bg-color);\n",
              "    fill: var(--disabled-fill-color);\n",
              "    box-shadow: none;\n",
              "  }\n",
              "\n",
              "  .colab-df-spinner {\n",
              "    border: 2px solid var(--fill-color);\n",
              "    border-color: transparent;\n",
              "    border-bottom-color: var(--fill-color);\n",
              "    animation:\n",
              "      spin 1s steps(1) infinite;\n",
              "  }\n",
              "\n",
              "  @keyframes spin {\n",
              "    0% {\n",
              "      border-color: transparent;\n",
              "      border-bottom-color: var(--fill-color);\n",
              "      border-left-color: var(--fill-color);\n",
              "    }\n",
              "    20% {\n",
              "      border-color: transparent;\n",
              "      border-left-color: var(--fill-color);\n",
              "      border-top-color: var(--fill-color);\n",
              "    }\n",
              "    30% {\n",
              "      border-color: transparent;\n",
              "      border-left-color: var(--fill-color);\n",
              "      border-top-color: var(--fill-color);\n",
              "      border-right-color: var(--fill-color);\n",
              "    }\n",
              "    40% {\n",
              "      border-color: transparent;\n",
              "      border-right-color: var(--fill-color);\n",
              "      border-top-color: var(--fill-color);\n",
              "    }\n",
              "    60% {\n",
              "      border-color: transparent;\n",
              "      border-right-color: var(--fill-color);\n",
              "    }\n",
              "    80% {\n",
              "      border-color: transparent;\n",
              "      border-right-color: var(--fill-color);\n",
              "      border-bottom-color: var(--fill-color);\n",
              "    }\n",
              "    90% {\n",
              "      border-color: transparent;\n",
              "      border-bottom-color: var(--fill-color);\n",
              "    }\n",
              "  }\n",
              "</style>\n",
              "\n",
              "  <script>\n",
              "    async function quickchart(key) {\n",
              "      const quickchartButtonEl =\n",
              "        document.querySelector('#' + key + ' button');\n",
              "      quickchartButtonEl.disabled = true;  // To prevent multiple clicks.\n",
              "      quickchartButtonEl.classList.add('colab-df-spinner');\n",
              "      try {\n",
              "        const charts = await google.colab.kernel.invokeFunction(\n",
              "            'suggestCharts', [key], {});\n",
              "      } catch (error) {\n",
              "        console.error('Error during call to suggestCharts:', error);\n",
              "      }\n",
              "      quickchartButtonEl.classList.remove('colab-df-spinner');\n",
              "      quickchartButtonEl.classList.add('colab-df-quickchart-complete');\n",
              "    }\n",
              "    (() => {\n",
              "      let quickchartButtonEl =\n",
              "        document.querySelector('#df-7e575df6-750a-4d67-9140-8e3c0f5d0a28 button');\n",
              "      quickchartButtonEl.style.display =\n",
              "        google.colab.kernel.accessAllowed ? 'block' : 'none';\n",
              "    })();\n",
              "  </script>\n",
              "</div>\n",
              "\n",
              "    </div>\n",
              "  </div>\n"
            ],
            "application/vnd.google.colaboratory.intrinsic+json": {
              "type": "dataframe",
              "summary": "{\n  \"name\": \"df\",\n  \"rows\": 8,\n  \"fields\": [\n    {\n      \"column\": \"Rating\",\n      \"properties\": {\n        \"dtype\": \"number\",\n        \"std\": 75289.06777559458,\n        \"min\": 0.0,\n        \"max\": 212952.0,\n        \"num_unique_values\": 7,\n        \"samples\": [\n          212952.0,\n          2.202872947894361,\n          4.3\n        ],\n        \"semantic_type\": \"\",\n        \"description\": \"\"\n      }\n    },\n    {\n      \"column\": \"Rating Count\",\n      \"properties\": {\n        \"dtype\": \"number\",\n        \"std\": 13233462.514143923,\n        \"min\": 0.0,\n        \"max\": 37479011.0,\n        \"num_unique_values\": 7,\n        \"samples\": [\n          212952.0,\n          2609.8357798940606,\n          43.0\n        ],\n        \"semantic_type\": \"\",\n        \"description\": \"\"\n      }\n    },\n    {\n      \"column\": \"Minimum Installs\",\n      \"properties\": {\n        \"dtype\": \"number\",\n        \"std\": 1767121332.254326,\n        \"min\": 0.0,\n        \"max\": 5000000000.0,\n        \"num_unique_values\": 8,\n        \"samples\": [\n          177593.54069048262,\n          500.0,\n          215038.0\n        ],\n        \"semantic_type\": \"\",\n        \"description\": \"\"\n      }\n    },\n    {\n      \"column\": \"Maximum Installs\",\n      \"properties\": {\n        \"dtype\": \"number\",\n        \"std\": 2175807006.8326764,\n        \"min\": 0.0,\n        \"max\": 6156518915.0,\n        \"num_unique_values\": 8,\n        \"samples\": [\n          293070.34350601945,\n          699.0,\n          215053.0\n        ],\n        \"semantic_type\": \"\",\n        \"description\": \"\"\n      }\n    },\n    {\n      \"column\": \"Price\",\n      \"properties\": {\n        \"dtype\": \"number\",\n        \"std\": 76012.54728882303,\n        \"min\": 0.0,\n        \"max\": 215053.0,\n        \"num_unique_values\": 5,\n        \"samples\": [\n          0.09275439979446924,\n          399.99,\n          1.8106583659770066\n        ],\n        \"semantic_type\": \"\",\n        \"description\": \"\"\n      }\n    }\n  ]\n}"
            }
          },
          "metadata": {},
          "execution_count": 8
        }
      ],
      "source": [
        "df.describe()"
      ]
    },
    {
      "cell_type": "code",
      "execution_count": 9,
      "id": "a3b806b3-af15-4722-abaa-f114e5a3e3aa",
      "metadata": {
        "id": "a3b806b3-af15-4722-abaa-f114e5a3e3aa"
      },
      "outputs": [],
      "source": [
        "df.dropna(inplace=True)"
      ]
    },
    {
      "cell_type": "code",
      "execution_count": 10,
      "id": "f8cb8488-9787-4c54-96ae-36c65a7a2234",
      "metadata": {
        "colab": {
          "base_uri": "https://localhost:8080/"
        },
        "id": "f8cb8488-9787-4c54-96ae-36c65a7a2234",
        "outputId": "e58b574d-2125-47c4-a05a-6eda927661b2"
      },
      "outputs": [
        {
          "output_type": "stream",
          "name": "stdout",
          "text": [
            "App Name             0\n",
            "App Id               0\n",
            "Category             0\n",
            "Rating               0\n",
            "Rating Count         0\n",
            "Installs             0\n",
            "Minimum Installs     0\n",
            "Maximum Installs     0\n",
            "Free                 0\n",
            "Price                0\n",
            "Currency             0\n",
            "Size                 0\n",
            "Minimum Android      0\n",
            "Developer Id         0\n",
            "Developer Website    0\n",
            "Developer Email      0\n",
            "Released             0\n",
            "Last Updated         0\n",
            "Content Rating       0\n",
            "Privacy Policy       0\n",
            "Ad Supported         0\n",
            "In App Purchases     0\n",
            "Editors Choice       0\n",
            "Scraped Time         0\n",
            "dtype: int64\n"
          ]
        }
      ],
      "source": [
        "print(df.isna().sum())"
      ]
    },
    {
      "cell_type": "code",
      "execution_count": 11,
      "id": "a37c1f1b",
      "metadata": {
        "papermill": {
          "duration": 7.119911,
          "end_time": "2023-02-02T15:40:38.908523",
          "exception": false,
          "start_time": "2023-02-02T15:40:31.788612",
          "status": "completed"
        },
        "tags": [],
        "id": "a37c1f1b"
      },
      "outputs": [],
      "source": [
        "def convert_size(x):\n",
        "    if pd.isna(x):\n",
        "        return np.nan\n",
        "    elif 'G' in x:\n",
        "        return float(re.sub('G', '', x)) * 1000\n",
        "    elif 'M' in x:\n",
        "        return float(re.sub('M|,', '', x))\n",
        "    elif 'K' in x or 'k' in x:\n",
        "        return float(re.sub('K|k|,', '', x)) / 1000.0\n",
        "    else:\n",
        "        return 0\n",
        "\n",
        "df['Size'] = [convert_size(x) for x in df['Size']]"
      ]
    },
    {
      "cell_type": "code",
      "execution_count": 12,
      "id": "391ca18b",
      "metadata": {
        "papermill": {
          "duration": 30.074182,
          "end_time": "2023-02-02T15:41:09.078019",
          "exception": false,
          "start_time": "2023-02-02T15:40:39.003837",
          "status": "completed"
        },
        "tags": [],
        "id": "391ca18b"
      },
      "outputs": [],
      "source": [
        "def convert_date(x):\n",
        "    if pd.isna(x):\n",
        "        return np.nan\n",
        "    else:\n",
        "        try:\n",
        "            return datetime.strptime(x, '%b %d, %Y')\n",
        "        except ValueError:\n",
        "            return np.nan  # Handle dates that do not match the expected format\n",
        "\n",
        "df['Released'] = [convert_date(x) for x in df['Released']]"
      ]
    },
    {
      "cell_type": "code",
      "execution_count": 13,
      "id": "ccf6ccff",
      "metadata": {
        "papermill": {
          "duration": 266.186953,
          "end_time": "2023-02-02T15:45:35.364927",
          "exception": false,
          "start_time": "2023-02-02T15:41:09.177974",
          "status": "completed"
        },
        "tags": [],
        "id": "ccf6ccff"
      },
      "outputs": [],
      "source": [
        "df[\"Last Updated\"]=pd.to_datetime(df[\"Last Updated\"])"
      ]
    },
    {
      "cell_type": "code",
      "execution_count": 14,
      "id": "499e6f55",
      "metadata": {
        "papermill": {
          "duration": 0.053377,
          "end_time": "2023-02-02T15:45:35.451595",
          "exception": false,
          "start_time": "2023-02-02T15:45:35.398218",
          "status": "completed"
        },
        "scrolled": true,
        "tags": [],
        "colab": {
          "base_uri": "https://localhost:8080/"
        },
        "id": "499e6f55",
        "outputId": "349314b5-bb07-48db-922b-18c4773e7533"
      },
      "outputs": [
        {
          "output_type": "stream",
          "name": "stdout",
          "text": [
            "<class 'pandas.core.frame.DataFrame'>\n",
            "Index: 119737 entries, 0 to 215051\n",
            "Data columns (total 24 columns):\n",
            " #   Column             Non-Null Count   Dtype         \n",
            "---  ------             --------------   -----         \n",
            " 0   App Name           119737 non-null  object        \n",
            " 1   App Id             119737 non-null  object        \n",
            " 2   Category           119737 non-null  object        \n",
            " 3   Rating             119737 non-null  float64       \n",
            " 4   Rating Count       119737 non-null  float64       \n",
            " 5   Installs           119737 non-null  object        \n",
            " 6   Minimum Installs   119737 non-null  float64       \n",
            " 7   Maximum Installs   119737 non-null  int64         \n",
            " 8   Free               119737 non-null  bool          \n",
            " 9   Price              119737 non-null  float64       \n",
            " 10  Currency           119737 non-null  object        \n",
            " 11  Size               119737 non-null  float64       \n",
            " 12  Minimum Android    119737 non-null  object        \n",
            " 13  Developer Id       119737 non-null  object        \n",
            " 14  Developer Website  119737 non-null  object        \n",
            " 15  Developer Email    119737 non-null  object        \n",
            " 16  Released           119737 non-null  datetime64[ns]\n",
            " 17  Last Updated       119737 non-null  datetime64[ns]\n",
            " 18  Content Rating     119737 non-null  object        \n",
            " 19  Privacy Policy     119737 non-null  object        \n",
            " 20  Ad Supported       119737 non-null  object        \n",
            " 21  In App Purchases   119737 non-null  object        \n",
            " 22  Editors Choice     119737 non-null  object        \n",
            " 23  Scraped Time       119737 non-null  object        \n",
            "dtypes: bool(1), datetime64[ns](2), float64(5), int64(1), object(15)\n",
            "memory usage: 22.0+ MB\n"
          ]
        }
      ],
      "source": [
        "df.info()"
      ]
    },
    {
      "cell_type": "code",
      "execution_count": 15,
      "id": "da2721b2-28c2-4b7d-bd99-638a838d0030",
      "metadata": {
        "id": "da2721b2-28c2-4b7d-bd99-638a838d0030"
      },
      "outputs": [],
      "source": [
        "df = df.drop(['Last Updated', 'App Id', 'Minimum Installs',\n",
        "                       'Maximum Installs', 'Free', 'Currency', 'Minimum Android', 'Developer Id',\n",
        "                       'Developer Website', 'Developer Email', 'Released', 'Privacy Policy',\n",
        "                       'Ad Supported', 'In App Purchases', 'Editors Choice', 'Scraped Time'], axis=1)"
      ]
    },
    {
      "cell_type": "code",
      "execution_count": 16,
      "id": "1d16516a",
      "metadata": {
        "papermill": {
          "duration": 2.027143,
          "end_time": "2023-02-02T15:45:37.642903",
          "exception": false,
          "start_time": "2023-02-02T15:45:35.615760",
          "status": "completed"
        },
        "tags": [],
        "colab": {
          "base_uri": "https://localhost:8080/",
          "height": 599
        },
        "id": "1d16516a",
        "outputId": "da7095ea-31ca-4a03-e4b0-45a1aa8dd83e"
      },
      "outputs": [
        {
          "output_type": "stream",
          "name": "stdout",
          "text": [
            "Number of apps that is not rated: 43.36%\n",
            "\n"
          ]
        },
        {
          "output_type": "display_data",
          "data": {
            "text/plain": [
              "<Figure size 1000x600 with 1 Axes>"
            ],
            "image/png": "[encoded data removed]"
          },
          "metadata": {}
        }
      ],
      "source": [
        "not_rated_percentage = (df[df['Rating'] == 0].shape[0] / df.shape[0]) * 100\n",
        "print(f\"Number of apps that is not rated: {not_rated_percentage:.2f}%\\n\")\n",
        "\n",
        "plt.figure(figsize=(10, 6))\n",
        "sns.boxplot(data=df[df['Rating'] > 0], x=\"Rating\")\n",
        "plt.title('Boxplot of Ratings Greater Than 0')\n",
        "plt.show()"
      ]
    },
    {
      "cell_type": "markdown",
      "id": "cccdedbc",
      "metadata": {
        "papermill": {
          "duration": 0.032425,
          "end_time": "2023-02-02T15:45:37.710807",
          "exception": false,
          "start_time": "2023-02-02T15:45:37.678382",
          "status": "completed"
        },
        "tags": [],
        "id": "cccdedbc"
      },
      "source": [
        "### Rating with Histogram Graph"
      ]
    },
    {
      "cell_type": "code",
      "execution_count": 17,
      "id": "1a43ef7e",
      "metadata": {
        "papermill": {
          "duration": 6.000423,
          "end_time": "2023-02-02T15:45:43.744093",
          "exception": false,
          "start_time": "2023-02-02T15:45:37.743670",
          "status": "completed"
        },
        "tags": [],
        "colab": {
          "base_uri": "https://localhost:8080/",
          "height": 604
        },
        "id": "1a43ef7e",
        "outputId": "77a809bc-7eb5-4ed8-b045-f301bfcc0af1"
      },
      "outputs": [
        {
          "output_type": "display_data",
          "data": {
            "text/plain": [
              "<Figure size 1200x800 with 1 Axes>"
            ],
            "image/png": "[encoded data removed]"
          },
          "metadata": {}
        }
      ],
      "source": [
        "plt.figure(figsize=(12, 8))  # Setting the size of the plot\n",
        "sns.histplot(data=df[df['Rating'] > 0], x=\"Rating\", kde=True, binwidth=0.5)\n",
        "plt.title('Histogram of App Ratings with KDE')  # Adding a title to the histogram\n",
        "plt.xlabel('Rating')  # Label for the x-axis\n",
        "plt.ylabel('Frequency')  # Label for the y-axis\n",
        "plt.grid(True)  # Adding a grid for better readability of the plot\n",
        "plt.show()"
      ]
    },
    {
      "cell_type": "markdown",
      "id": "4b3e16fa",
      "metadata": {
        "papermill": {
          "duration": 0.034533,
          "end_time": "2023-02-02T15:45:43.812918",
          "exception": false,
          "start_time": "2023-02-02T15:45:43.778385",
          "status": "completed"
        },
        "tags": [],
        "id": "4b3e16fa"
      },
      "source": [
        "### The first 20 Category App"
      ]
    },
    {
      "cell_type": "code",
      "execution_count": 18,
      "id": "c96ee2b5",
      "metadata": {
        "papermill": {
          "duration": 0.199595,
          "end_time": "2023-02-02T15:45:44.045690",
          "exception": false,
          "start_time": "2023-02-02T15:45:43.846095",
          "status": "completed"
        },
        "tags": [],
        "colab": {
          "base_uri": "https://localhost:8080/",
          "height": 712
        },
        "id": "c96ee2b5",
        "outputId": "8d81ce48-e7b4-4796-9829-9920c4e2e097"
      },
      "outputs": [
        {
          "output_type": "display_data",
          "data": {
            "text/plain": [
              "<Figure size 1200x1000 with 1 Axes>"
            ],
            "image/png": "[encoded data removed]"
          },
          "metadata": {}
        }
      ],
      "source": [
        "pie_data = df['Category'].value_counts()\n",
        "\n",
        "graph_data = pie_data[:19]\n",
        "graph_data['Others'] = pie_data[20:].sum()\n",
        "plt.figure(figsize=(12, 10))  # Adjust the figure size as needed\n",
        "plt.pie(graph_data, labels=graph_data.index, autopct='%1.2f%%', startangle=90)\n",
        "plt.title('Distribution of App Categories (Top 19 + Others)')  # Add a title\n",
        "plt.axis('equal')  # Ensure the pie chart is a circle\n",
        "plt.show()"
      ]
    },
    {
      "cell_type": "code",
      "execution_count": 19,
      "id": "06e27ce9",
      "metadata": {
        "papermill": {
          "duration": 0.243964,
          "end_time": "2023-02-02T15:45:44.947798",
          "exception": false,
          "start_time": "2023-02-02T15:45:44.703834",
          "status": "completed"
        },
        "tags": [],
        "colab": {
          "base_uri": "https://localhost:8080/",
          "height": 681
        },
        "id": "06e27ce9",
        "outputId": "afce7d22-5f9b-4523-9cb8-5a9a8f2533c0"
      },
      "outputs": [
        {
          "output_type": "display_data",
          "data": {
            "text/plain": [
              "<Figure size 1000x800 with 1 Axes>"
            ],
            "image/png": "[encoded data removed]"
          },
          "metadata": {}
        }
      ],
      "source": [
        "paid_free_data = {\n",
        "    \"Paid\": df['Price'][df['Price'] > 0].count(),\n",
        "    \"Free\": df['Price'][df['Price'] == 0].count()\n",
        "}\n",
        "\n",
        "# Create a pie chart\n",
        "plt.figure(figsize=(10, 8))  # Adjust the size of the figure\n",
        "plt.pie(paid_free_data.values(), labels=paid_free_data.keys(), autopct='%1.2f%%', startangle=90)\n",
        "plt.title('Distribution of Paid vs Free Apps')  # Add a title to the chart\n",
        "plt.axis('equal')  # Ensure that the pie is drawn as a circle\n",
        "\n",
        "# Display the pie chart\n",
        "plt.show()"
      ]
    },
    {
      "cell_type": "code",
      "execution_count": 20,
      "id": "83f7bf54",
      "metadata": {
        "papermill": {
          "duration": 0.890475,
          "end_time": "2023-02-02T15:45:45.961007",
          "exception": false,
          "start_time": "2023-02-02T15:45:45.070532",
          "status": "completed"
        },
        "tags": [],
        "colab": {
          "base_uri": "https://localhost:8080/",
          "height": 609
        },
        "id": "83f7bf54",
        "outputId": "0f122cb5-2045-4db2-d0a4-74d3345f58e3"
      },
      "outputs": [
        {
          "output_type": "display_data",
          "data": {
            "text/plain": [
              "<Figure size 1200x800 with 1 Axes>"
            ],
            "image/png": "[encoded data removed]"
          },
          "metadata": {}
        }
      ],
      "source": [
        "plt.figure(figsize=(12, 8))\n",
        "\n",
        "# Create a histogram with KDE for prices greater than 0\n",
        "ax = sns.histplot(data=df[df['Price'] > 0], x='Price', kde=True, binwidth=5)\n",
        "\n",
        "# Customize the plot to improve readability\n",
        "ax.set_title('Distribution of App Prices (Paid Apps Only)')  # Add a title\n",
        "ax.set_xlabel('Price (USD)')  # Label for the x-axis\n",
        "ax.set_ylabel('Number of Apps')  # Label for the y-axis\n",
        "plt.grid(True)  # Add grid lines to the plot for better readability\n",
        "\n",
        "# Display the plot\n",
        "plt.show()"
      ]
    },
    {
      "cell_type": "code",
      "execution_count": 21,
      "id": "9391ebee-95d5-4df5-98fc-053e8abed9fe",
      "metadata": {
        "colab": {
          "base_uri": "https://localhost:8080/",
          "height": 1000
        },
        "id": "9391ebee-95d5-4df5-98fc-053e8abed9fe",
        "outputId": "865e75fd-abfb-4b01-a379-4b5e9625d9b6"
      },
      "outputs": [
        {
          "output_type": "stream",
          "name": "stdout",
          "text": [
            "Average Rating per Category\n"
          ]
        },
        {
          "output_type": "execute_result",
          "data": {
            "text/plain": [
              "                             mean  median\n",
              "Category                                 \n",
              "Action                   3.094783     3.8\n",
              "Adventure                3.239084     3.9\n",
              "Arcade                   2.794302     3.8\n",
              "Art & Design             2.087945     2.6\n",
              "Auto & Vehicles          2.067459     2.3\n",
              "Beauty                   1.783363     0.0\n",
              "Board                    3.271279     4.0\n",
              "Books & Reference        2.593910     3.9\n",
              "Business                 1.514419     0.0\n",
              "Card                     3.417517     4.0\n",
              "Casino                   3.537918     4.0\n",
              "Casual                   2.869853     3.8\n",
              "Comics                   2.849107     3.7\n",
              "Communication            2.160702     2.6\n",
              "Dating                   2.591791     3.4\n",
              "Education                2.359374     3.4\n",
              "Educational              2.714399     3.8\n",
              "Entertainment            2.629169     3.6\n",
              "Events                   1.240822     0.0\n",
              "Finance                  2.567318     3.5\n",
              "Food & Drink             1.442656     0.0\n",
              "Health & Fitness         1.649265     0.0\n",
              "House & Home             1.780252     0.0\n",
              "Libraries & Demo         2.216290     2.9\n",
              "Lifestyle                1.972487     0.0\n",
              "Maps & Navigation        2.358254     3.2\n",
              "Medical                  1.934300     0.0\n",
              "Music                    2.912037     3.8\n",
              "Music & Audio            2.473349     3.7\n",
              "News & Magazines         2.629541     3.7\n",
              "Parenting                2.736134     3.7\n",
              "Personalization          3.012340     4.1\n",
              "Photography              2.754104     3.7\n",
              "Productivity             2.025023     2.0\n",
              "Puzzle                   3.084562     4.1\n",
              "Racing                   3.430582     3.9\n",
              "Role Playing             3.567115     4.0\n",
              "Shopping                 1.930305     0.0\n",
              "Simulation               3.505434     3.8\n",
              "Social                   2.546277     3.6\n",
              "Sports                   2.447508     3.5\n",
              "Strategy                 3.314806     4.0\n",
              "Tools                    2.502209     3.4\n",
              "Travel & Local           2.025396     1.5\n",
              "Trivia                   2.614504     3.8\n",
              "Video Players & Editors  3.117492     3.7\n",
              "Weather                  3.300258     4.0\n",
              "Word                     3.308353     4.2"
            ],
            "text/html": [
              "\n",
              "  <div id=\"df-0da1d6ce-e4e6-483f-b024-8355b9287bf2\" class=\"colab-df-container\">\n",
              "    <div>\n",
              "<style scoped>\n",
              "    .dataframe tbody tr th:only-of-type {\n",
              "        vertical-align: middle;\n",
              "    }\n",
              "\n",
              "    .dataframe tbody tr th {\n",
              "        vertical-align: top;\n",
              "    }\n",
              "\n",
              "    .dataframe thead th {\n",
              "        text-align: right;\n",
              "    }\n",
              "</style>\n",
              "<table border=\"1\" class=\"dataframe\">\n",
              "  <thead>\n",
              "    <tr style=\"text-align: right;\">\n",
              "      <th></th>\n",
              "      <th>mean</th>\n",
              "      <th>median</th>\n",
              "    </tr>\n",
              "    <tr>\n",
              "      <th>Category</th>\n",
              "      <th></th>\n",
              "      <th></th>\n",
              "    </tr>\n",
              "  </thead>\n",
              "  <tbody>\n",
              "    <tr>\n",
              "      <th>Action</th>\n",
              "      <td>3.094783</td>\n",
              "      <td>3.8</td>\n",
              "    </tr>\n",
              "    <tr>\n",
              "      <th>Adventure</th>\n",
              "      <td>3.239084</td>\n",
              "      <td>3.9</td>\n",
              "    </tr>\n",
              "    <tr>\n",
              "      <th>Arcade</th>\n",
              "      <td>2.794302</td>\n",
              "      <td>3.8</td>\n",
              "    </tr>\n",
              "    <tr>\n",
              "      <th>Art &amp; Design</th>\n",
              "      <td>2.087945</td>\n",
              "      <td>2.6</td>\n",
              "    </tr>\n",
              "    <tr>\n",
              "      <th>Auto &amp; Vehicles</th>\n",
              "      <td>2.067459</td>\n",
              "      <td>2.3</td>\n",
              "    </tr>\n",
              "    <tr>\n",
              "      <th>Beauty</th>\n",
              "      <td>1.783363</td>\n",
              "      <td>0.0</td>\n",
              "    </tr>\n",
              "    <tr>\n",
              "      <th>Board</th>\n",
              "      <td>3.271279</td>\n",
              "      <td>4.0</td>\n",
              "    </tr>\n",
              "    <tr>\n",
              "      <th>Books &amp; Reference</th>\n",
              "      <td>2.593910</td>\n",
              "      <td>3.9</td>\n",
              "    </tr>\n",
              "    <tr>\n",
              "      <th>Business</th>\n",
              "      <td>1.514419</td>\n",
              "      <td>0.0</td>\n",
              "    </tr>\n",
              "    <tr>\n",
              "      <th>Card</th>\n",
              "      <td>3.417517</td>\n",
              "      <td>4.0</td>\n",
              "    </tr>\n",
              "    <tr>\n",
              "      <th>Casino</th>\n",
              "      <td>3.537918</td>\n",
              "      <td>4.0</td>\n",
              "    </tr>\n",
              "    <tr>\n",
              "      <th>Casual</th>\n",
              "      <td>2.869853</td>\n",
              "      <td>3.8</td>\n",
              "    </tr>\n",
              "    <tr>\n",
              "      <th>Comics</th>\n",
              "      <td>2.849107</td>\n",
              "      <td>3.7</td>\n",
              "    </tr>\n",
              "    <tr>\n",
              "      <th>Communication</th>\n",
              "      <td>2.160702</td>\n",
              "      <td>2.6</td>\n",
              "    </tr>\n",
              "    <tr>\n",
              "      <th>Dating</th>\n",
              "      <td>2.591791</td>\n",
              "      <td>3.4</td>\n",
              "    </tr>\n",
              "    <tr>\n",
              "      <th>Education</th>\n",
              "      <td>2.359374</td>\n",
              "      <td>3.4</td>\n",
              "    </tr>\n",
              "    <tr>\n",
              "      <th>Educational</th>\n",
              "      <td>2.714399</td>\n",
              "      <td>3.8</td>\n",
              "    </tr>\n",
              "    <tr>\n",
              "      <th>Entertainment</th>\n",
              "      <td>2.629169</td>\n",
              "      <td>3.6</td>\n",
              "    </tr>\n",
              "    <tr>\n",
              "      <th>Events</th>\n",
              "      <td>1.240822</td>\n",
              "      <td>0.0</td>\n",
              "    </tr>\n",
              "    <tr>\n",
              "      <th>Finance</th>\n",
              "      <td>2.567318</td>\n",
              "      <td>3.5</td>\n",
              "    </tr>\n",
              "    <tr>\n",
              "      <th>Food &amp; Drink</th>\n",
              "      <td>1.442656</td>\n",
              "      <td>0.0</td>\n",
              "    </tr>\n",
              "    <tr>\n",
              "      <th>Health &amp; Fitness</th>\n",
              "      <td>1.649265</td>\n",
              "      <td>0.0</td>\n",
              "    </tr>\n",
              "    <tr>\n",
              "      <th>House &amp; Home</th>\n",
              "      <td>1.780252</td>\n",
              "      <td>0.0</td>\n",
              "    </tr>\n",
              "    <tr>\n",
              "      <th>Libraries &amp; Demo</th>\n",
              "      <td>2.216290</td>\n",
              "      <td>2.9</td>\n",
              "    </tr>\n",
              "    <tr>\n",
              "      <th>Lifestyle</th>\n",
              "      <td>1.972487</td>\n",
              "      <td>0.0</td>\n",
              "    </tr>\n",
              "    <tr>\n",
              "      <th>Maps &amp; Navigation</th>\n",
              "      <td>2.358254</td>\n",
              "      <td>3.2</td>\n",
              "    </tr>\n",
              "    <tr>\n",
              "      <th>Medical</th>\n",
              "      <td>1.934300</td>\n",
              "      <td>0.0</td>\n",
              "    </tr>\n",
              "    <tr>\n",
              "      <th>Music</th>\n",
              "      <td>2.912037</td>\n",
              "      <td>3.8</td>\n",
              "    </tr>\n",
              "    <tr>\n",
              "      <th>Music &amp; Audio</th>\n",
              "      <td>2.473349</td>\n",
              "      <td>3.7</td>\n",
              "    </tr>\n",
              "    <tr>\n",
              "      <th>News &amp; Magazines</th>\n",
              "      <td>2.629541</td>\n",
              "      <td>3.7</td>\n",
              "    </tr>\n",
              "    <tr>\n",
              "      <th>Parenting</th>\n",
              "      <td>2.736134</td>\n",
              "      <td>3.7</td>\n",
              "    </tr>\n",
              "    <tr>\n",
              "      <th>Personalization</th>\n",
              "      <td>3.012340</td>\n",
              "      <td>4.1</td>\n",
              "    </tr>\n",
              "    <tr>\n",
              "      <th>Photography</th>\n",
              "      <td>2.754104</td>\n",
              "      <td>3.7</td>\n",
              "    </tr>\n",
              "    <tr>\n",
              "      <th>Productivity</th>\n",
              "      <td>2.025023</td>\n",
              "      <td>2.0</td>\n",
              "    </tr>\n",
              "    <tr>\n",
              "      <th>Puzzle</th>\n",
              "      <td>3.084562</td>\n",
              "      <td>4.1</td>\n",
              "    </tr>\n",
              "    <tr>\n",
              "      <th>Racing</th>\n",
              "      <td>3.430582</td>\n",
              "      <td>3.9</td>\n",
              "    </tr>\n",
              "    <tr>\n",
              "      <th>Role Playing</th>\n",
              "      <td>3.567115</td>\n",
              "      <td>4.0</td>\n",
              "    </tr>\n",
              "    <tr>\n",
              "      <th>Shopping</th>\n",
              "      <td>1.930305</td>\n",
              "      <td>0.0</td>\n",
              "    </tr>\n",
              "    <tr>\n",
              "      <th>Simulation</th>\n",
              "      <td>3.505434</td>\n",
              "      <td>3.8</td>\n",
              "    </tr>\n",
              "    <tr>\n",
              "      <th>Social</th>\n",
              "      <td>2.546277</td>\n",
              "      <td>3.6</td>\n",
              "    </tr>\n",
              "    <tr>\n",
              "      <th>Sports</th>\n",
              "      <td>2.447508</td>\n",
              "      <td>3.5</td>\n",
              "    </tr>\n",
              "    <tr>\n",
              "      <th>Strategy</th>\n",
              "      <td>3.314806</td>\n",
              "      <td>4.0</td>\n",
              "    </tr>\n",
              "    <tr>\n",
              "      <th>Tools</th>\n",
              "      <td>2.502209</td>\n",
              "      <td>3.4</td>\n",
              "    </tr>\n",
              "    <tr>\n",
              "      <th>Travel &amp; Local</th>\n",
              "      <td>2.025396</td>\n",
              "      <td>1.5</td>\n",
              "    </tr>\n",
              "    <tr>\n",
              "      <th>Trivia</th>\n",
              "      <td>2.614504</td>\n",
              "      <td>3.8</td>\n",
              "    </tr>\n",
              "    <tr>\n",
              "      <th>Video Players &amp; Editors</th>\n",
              "      <td>3.117492</td>\n",
              "      <td>3.7</td>\n",
              "    </tr>\n",
              "    <tr>\n",
              "      <th>Weather</th>\n",
              "      <td>3.300258</td>\n",
              "      <td>4.0</td>\n",
              "    </tr>\n",
              "    <tr>\n",
              "      <th>Word</th>\n",
              "      <td>3.308353</td>\n",
              "      <td>4.2</td>\n",
              "    </tr>\n",
              "  </tbody>\n",
              "</table>\n",
              "</div>\n",
              "    <div class=\"colab-df-buttons\">\n",
              "\n",
              "  <div class=\"colab-df-container\">\n",
              "    <button class=\"colab-df-convert\" onclick=\"convertToInteractive('df-0da1d6ce-e4e6-483f-b024-8355b9287bf2')\"\n",
              "            title=\"Convert this dataframe to an interactive table.\"\n",
              "            style=\"display:none;\">\n",
              "\n",
              "  <svg xmlns=\"http://www.w3.org/2000/svg\" height=\"24px\" viewBox=\"0 -960 960 960\">\n",
              "    <path d=\"M120-120v-720h720v720H120Zm60-500h600v-160H180v160Zm220 220h160v-160H400v160Zm0 220h160v-160H400v160ZM180-400h160v-160H180v160Zm440 0h160v-160H620v160ZM180-180h160v-160H180v160Zm440 0h160v-160H620v160Z\"/>\n",
              "  </svg>\n",
              "    </button>\n",
              "\n",
              "  <style>\n",
              "    .colab-df-container {\n",
              "      display:flex;\n",
              "      gap: 12px;\n",
              "    }\n",
              "\n",
              "    .colab-df-convert {\n",
              "      background-color: #E8F0FE;\n",
              "      border: none;\n",
              "      border-radius: 50%;\n",
              "      cursor: pointer;\n",
              "      display: none;\n",
              "      fill: #1967D2;\n",
              "      height: 32px;\n",
              "      padding: 0 0 0 0;\n",
              "      width: 32px;\n",
              "    }\n",
              "\n",
              "    .colab-df-convert:hover {\n",
              "      background-color: #E2EBFA;\n",
              "      box-shadow: 0px 1px 2px rgba(60, 64, 67, 0.3), 0px 1px 3px 1px rgba(60, 64, 67, 0.15);\n",
              "      fill: #174EA6;\n",
              "    }\n",
              "\n",
              "    .colab-df-buttons div {\n",
              "      margin-bottom: 4px;\n",
              "    }\n",
              "\n",
              "    [theme=dark] .colab-df-convert {\n",
              "      background-color: #3B4455;\n",
              "      fill: #D2E3FC;\n",
              "    }\n",
              "\n",
              "    [theme=dark] .colab-df-convert:hover {\n",
              "      background-color: #434B5C;\n",
              "      box-shadow: 0px 1px 3px 1px rgba(0, 0, 0, 0.15);\n",
              "      filter: drop-shadow(0px 1px 2px rgba(0, 0, 0, 0.3));\n",
              "      fill: #FFFFFF;\n",
              "    }\n",
              "  </style>\n",
              "\n",
              "    <script>\n",
              "      const buttonEl =\n",
              "        document.querySelector('#df-0da1d6ce-e4e6-483f-b024-8355b9287bf2 button.colab-df-convert');\n",
              "      buttonEl.style.display =\n",
              "        google.colab.kernel.accessAllowed ? 'block' : 'none';\n",
              "\n",
              "      async function convertToInteractive(key) {\n",
              "        const element = document.querySelector('#df-0da1d6ce-e4e6-483f-b024-8355b9287bf2');\n",
              "        const dataTable =\n",
              "          await google.colab.kernel.invokeFunction('convertToInteractive',\n",
              "                                                    [key], {});\n",
              "        if (!dataTable) return;\n",
              "\n",
              "        const docLinkHtml = 'Like what you see? Visit the ' +\n",
              "          '<a target=\"_blank\" href=https://colab.research.google.com/notebooks/data_table.ipynb>data table notebook</a>'\n",
              "          + ' to learn more about interactive tables.';\n",
              "        element.innerHTML = '';\n",
              "        dataTable['output_type'] = 'display_data';\n",
              "        await google.colab.output.renderOutput(dataTable, element);\n",
              "        const docLink = document.createElement('div');\n",
              "        docLink.innerHTML = docLinkHtml;\n",
              "        element.appendChild(docLink);\n",
              "      }\n",
              "    </script>\n",
              "  </div>\n",
              "\n",
              "\n",
              "<div id=\"df-82c89a92-5530-4e3f-a9b3-bcc895ffd899\">\n",
              "  <button class=\"colab-df-quickchart\" onclick=\"quickchart('df-82c89a92-5530-4e3f-a9b3-bcc895ffd899')\"\n",
              "            title=\"Suggest charts\"\n",
              "            style=\"display:none;\">\n",
              "\n",
              "<svg xmlns=\"http://www.w3.org/2000/svg\" height=\"24px\"viewBox=\"0 0 24 24\"\n",
              "     width=\"24px\">\n",
              "    <g>\n",
              "        <path d=\"M19 3H5c-1.1 0-2 .9-2 2v14c0 1.1.9 2 2 2h14c1.1 0 2-.9 2-2V5c0-1.1-.9-2-2-2zM9 17H7v-7h2v7zm4 0h-2V7h2v10zm4 0h-2v-4h2v4z\"/>\n",
              "    </g>\n",
              "</svg>\n",
              "  </button>\n",
              "\n",
              "<style>\n",
              "  .colab-df-quickchart {\n",
              "      --bg-color: #E8F0FE;\n",
              "      --fill-color: #1967D2;\n",
              "      --hover-bg-color: #E2EBFA;\n",
              "      --hover-fill-color: #174EA6;\n",
              "      --disabled-fill-color: #AAA;\n",
              "      --disabled-bg-color: #DDD;\n",
              "  }\n",
              "\n",
              "  [theme=dark] .colab-df-quickchart {\n",
              "      --bg-color: #3B4455;\n",
              "      --fill-color: #D2E3FC;\n",
              "      --hover-bg-color: #434B5C;\n",
              "      --hover-fill-color: #FFFFFF;\n",
              "      --disabled-bg-color: #3B4455;\n",
              "      --disabled-fill-color: #666;\n",
              "  }\n",
              "\n",
              "  .colab-df-quickchart {\n",
              "    background-color: var(--bg-color);\n",
              "    border: none;\n",
              "    border-radius: 50%;\n",
              "    cursor: pointer;\n",
              "    display: none;\n",
              "    fill: var(--fill-color);\n",
              "    height: 32px;\n",
              "    padding: 0;\n",
              "    width: 32px;\n",
              "  }\n",
              "\n",
              "  .colab-df-quickchart:hover {\n",
              "    background-color: var(--hover-bg-color);\n",
              "    box-shadow: 0 1px 2px rgba(60, 64, 67, 0.3), 0 1px 3px 1px rgba(60, 64, 67, 0.15);\n",
              "    fill: var(--button-hover-fill-color);\n",
              "  }\n",
              "\n",
              "  .colab-df-quickchart-complete:disabled,\n",
              "  .colab-df-quickchart-complete:disabled:hover {\n",
              "    background-color: var(--disabled-bg-color);\n",
              "    fill: var(--disabled-fill-color);\n",
              "    box-shadow: none;\n",
              "  }\n",
              "\n",
              "  .colab-df-spinner {\n",
              "    border: 2px solid var(--fill-color);\n",
              "    border-color: transparent;\n",
              "    border-bottom-color: var(--fill-color);\n",
              "    animation:\n",
              "      spin 1s steps(1) infinite;\n",
              "  }\n",
              "\n",
              "  @keyframes spin {\n",
              "    0% {\n",
              "      border-color: transparent;\n",
              "      border-bottom-color: var(--fill-color);\n",
              "      border-left-color: var(--fill-color);\n",
              "    }\n",
              "    20% {\n",
              "      border-color: transparent;\n",
              "      border-left-color: var(--fill-color);\n",
              "      border-top-color: var(--fill-color);\n",
              "    }\n",
              "    30% {\n",
              "      border-color: transparent;\n",
              "      border-left-color: var(--fill-color);\n",
              "      border-top-color: var(--fill-color);\n",
              "      border-right-color: var(--fill-color);\n",
              "    }\n",
              "    40% {\n",
              "      border-color: transparent;\n",
              "      border-right-color: var(--fill-color);\n",
              "      border-top-color: var(--fill-color);\n",
              "    }\n",
              "    60% {\n",
              "      border-color: transparent;\n",
              "      border-right-color: var(--fill-color);\n",
              "    }\n",
              "    80% {\n",
              "      border-color: transparent;\n",
              "      border-right-color: var(--fill-color);\n",
              "      border-bottom-color: var(--fill-color);\n",
              "    }\n",
              "    90% {\n",
              "      border-color: transparent;\n",
              "      border-bottom-color: var(--fill-color);\n",
              "    }\n",
              "  }\n",
              "</style>\n",
              "\n",
              "  <script>\n",
              "    async function quickchart(key) {\n",
              "      const quickchartButtonEl =\n",
              "        document.querySelector('#' + key + ' button');\n",
              "      quickchartButtonEl.disabled = true;  // To prevent multiple clicks.\n",
              "      quickchartButtonEl.classList.add('colab-df-spinner');\n",
              "      try {\n",
              "        const charts = await google.colab.kernel.invokeFunction(\n",
              "            'suggestCharts', [key], {});\n",
              "      } catch (error) {\n",
              "        console.error('Error during call to suggestCharts:', error);\n",
              "      }\n",
              "      quickchartButtonEl.classList.remove('colab-df-spinner');\n",
              "      quickchartButtonEl.classList.add('colab-df-quickchart-complete');\n",
              "    }\n",
              "    (() => {\n",
              "      let quickchartButtonEl =\n",
              "        document.querySelector('#df-82c89a92-5530-4e3f-a9b3-bcc895ffd899 button');\n",
              "      quickchartButtonEl.style.display =\n",
              "        google.colab.kernel.accessAllowed ? 'block' : 'none';\n",
              "    })();\n",
              "  </script>\n",
              "</div>\n",
              "\n",
              "    </div>\n",
              "  </div>\n"
            ],
            "application/vnd.google.colaboratory.intrinsic+json": {
              "type": "dataframe",
              "summary": "{\n  \"name\": \"df\",\n  \"rows\": 48,\n  \"fields\": [\n    {\n      \"column\": \"Category\",\n      \"properties\": {\n        \"dtype\": \"string\",\n        \"num_unique_values\": 48,\n        \"samples\": [\n          \"Music\",\n          \"Sports\",\n          \"Medical\"\n        ],\n        \"semantic_type\": \"\",\n        \"description\": \"\"\n      }\n    },\n    {\n      \"column\": \"mean\",\n      \"properties\": {\n        \"dtype\": \"number\",\n        \"std\": 0.6048602903062371,\n        \"min\": 1.240821566110398,\n        \"max\": 3.5671153846153847,\n        \"num_unique_values\": 48,\n        \"samples\": [\n          2.912037037037037,\n          2.4475083056478404,\n          1.9342995169082124\n        ],\n        \"semantic_type\": \"\",\n        \"description\": \"\"\n      }\n    },\n    {\n      \"column\": \"median\",\n      \"properties\": {\n        \"dtype\": \"number\",\n        \"std\": 1.5008271950839462,\n        \"min\": 0.0,\n        \"max\": 4.2,\n        \"num_unique_values\": 16,\n        \"samples\": [\n          3.8,\n          3.9,\n          4.0\n        ],\n        \"semantic_type\": \"\",\n        \"description\": \"\"\n      }\n    }\n  ]\n}"
            }
          },
          "metadata": {},
          "execution_count": 21
        }
      ],
      "source": [
        "print('Average Rating per Category')\n",
        "df.groupby('Category')['Rating'].agg(['mean','median'])"
      ]
    },
    {
      "cell_type": "code",
      "execution_count": 22,
      "id": "54fbb748-61cb-4509-b831-68f5af93f08c",
      "metadata": {
        "colab": {
          "base_uri": "https://localhost:8080/",
          "height": 1000
        },
        "id": "54fbb748-61cb-4509-b831-68f5af93f08c",
        "outputId": "dc346eda-90b2-48ac-db9a-587211ed686c"
      },
      "outputs": [
        {
          "output_type": "stream",
          "name": "stdout",
          "text": [
            "Number of Apps per category\n"
          ]
        },
        {
          "output_type": "display_data",
          "data": {
            "text/plain": [
              "Category\n",
              "Education                  11884\n",
              "Business                    9342\n",
              "Music & Audio               8191\n",
              "Lifestyle                   7113\n",
              "Tools                       6293\n",
              "Entertainment               5859\n",
              "Books & Reference           5189\n",
              "Health & Fitness            4898\n",
              "Shopping                    4557\n",
              "Travel & Local              4418\n",
              "Productivity                4412\n",
              "Food & Drink                4194\n",
              "Finance                     4094\n",
              "Personalization             3598\n",
              "Communication               2850\n",
              "Sports                      2709\n",
              "News & Magazines            2681\n",
              "Social                      2619\n",
              "Puzzle                      2293\n",
              "Casual                      1967\n",
              "Medical                     1863\n",
              "Arcade                      1755\n",
              "Photography                 1584\n",
              "Maps & Navigation           1466\n",
              "Simulation                  1233\n",
              "Action                      1150\n",
              "Educational                 1132\n",
              "Adventure                    939\n",
              "Auto & Vehicles              925\n",
              "House & Home                 795\n",
              "Events                       779\n",
              "Art & Design                 730\n",
              "Video Players & Editors      606\n",
              "Beauty                       559\n",
              "Racing                       533\n",
              "Trivia                       524\n",
              "Role Playing                 520\n",
              "Board                        477\n",
              "Card                         451\n",
              "Word                         431\n",
              "Strategy                     412\n",
              "Weather                      388\n",
              "Casino                       269\n",
              "Dating                       268\n",
              "Parenting                    238\n",
              "Libraries & Demo             221\n",
              "Music                        216\n",
              "Comics                       112\n",
              "Name: count, dtype: int64"
            ]
          },
          "metadata": {}
        },
        {
          "output_type": "display_data",
          "data": {
            "text/plain": [
              "<Figure size 800x800 with 1 Axes>"
            ],
            "image/png": "[encoded data removed]"
          },
          "metadata": {}
        }
      ],
      "source": [
        "print('Number of Apps per category')\n",
        "display(df.Category.value_counts())\n",
        "fig=plt.figure(figsize=(8, 8))\n",
        "a = sns.countplot(y = df.Category,order = df.Category.value_counts().index, data = df).set_title('Number of Apps per Category')"
      ]
    },
    {
      "cell_type": "markdown",
      "id": "841ebb52",
      "metadata": {
        "papermill": {
          "duration": 0.037874,
          "end_time": "2023-02-02T15:45:58.390008",
          "exception": false,
          "start_time": "2023-02-02T15:45:58.352134",
          "status": "completed"
        },
        "tags": [],
        "id": "841ebb52"
      },
      "source": []
    },
    {
      "cell_type": "code",
      "execution_count": 23,
      "id": "5f96b855",
      "metadata": {
        "papermill": {
          "duration": 0.637906,
          "end_time": "2023-02-02T15:46:06.196335",
          "exception": false,
          "start_time": "2023-02-02T15:46:05.558429",
          "status": "completed"
        },
        "tags": [],
        "colab": {
          "base_uri": "https://localhost:8080/",
          "height": 678
        },
        "id": "5f96b855",
        "outputId": "90bb5bbf-d21b-4eb6-aff1-3e13e51c1d18"
      },
      "outputs": [
        {
          "output_type": "display_data",
          "data": {
            "text/plain": [
              "<Figure size 1200x800 with 1 Axes>"
            ],
            "image/png": "[encoded data removed]"
          },
          "metadata": {}
        }
      ],
      "source": [
        "a = df.groupby(\"Category\")[\"Rating\"].count().sort_values(ascending=False)[:10]\n",
        "\n",
        "# Create a bar plot\n",
        "plt.figure(figsize=(12, 8))  # Optional: adjust the figure size for better readability\n",
        "ax = sns.barplot(x=a.index, y=a.values)  # Use a.index and a.values for better clarity\n",
        "\n",
        "# Customize the plot\n",
        "ax.set_title('Top 10 Categories by Rating Count')  # Add a title\n",
        "ax.set_xlabel('Category')  # Label for the x-axis\n",
        "ax.set_ylabel('Ratings Count')  # Label for the y-axis\n",
        "ax.tick_params(axis='x', labelrotation=45)  # Rotate the x labels for better readability\n",
        "\n",
        "# Show the plot\n",
        "plt.show()"
      ]
    },
    {
      "cell_type": "code",
      "execution_count": 24,
      "id": "91a20a30",
      "metadata": {
        "papermill": {
          "duration": 0.492243,
          "end_time": "2023-02-02T15:50:16.152258",
          "exception": false,
          "start_time": "2023-02-02T15:50:15.660015",
          "status": "completed"
        },
        "tags": [],
        "id": "91a20a30"
      },
      "outputs": [],
      "source": [
        "df=df.drop(columns=[\"Installs\"],axis= 1)"
      ]
    },
    {
      "cell_type": "code",
      "execution_count": 25,
      "id": "24e9ebf9",
      "metadata": {
        "papermill": {
          "duration": 0.235827,
          "end_time": "2023-02-02T15:50:19.689636",
          "exception": false,
          "start_time": "2023-02-02T15:50:19.453809",
          "status": "completed"
        },
        "tags": [],
        "id": "24e9ebf9"
      },
      "outputs": [],
      "source": [
        "df_with_ratings = df[df.Rating > 0]"
      ]
    },
    {
      "cell_type": "markdown",
      "id": "63ad25c4",
      "metadata": {
        "papermill": {
          "duration": 0.058502,
          "end_time": "2023-02-02T15:51:38.516561",
          "exception": false,
          "start_time": "2023-02-02T15:51:38.458059",
          "status": "completed"
        },
        "tags": [],
        "id": "63ad25c4"
      },
      "source": [
        "# DATA MODELING\n"
      ]
    },
    {
      "cell_type": "code",
      "execution_count": 26,
      "id": "dca4753f",
      "metadata": {
        "papermill": {
          "duration": 0.273994,
          "end_time": "2023-02-02T15:51:38.847094",
          "exception": false,
          "start_time": "2023-02-02T15:51:38.573100",
          "status": "completed"
        },
        "tags": [],
        "id": "dca4753f"
      },
      "outputs": [],
      "source": [
        "from sklearn.preprocessing import LabelEncoder"
      ]
    },
    {
      "cell_type": "code",
      "execution_count": 27,
      "id": "967042a0",
      "metadata": {
        "papermill": {
          "duration": 0.073926,
          "end_time": "2023-02-02T15:51:38.977276",
          "exception": false,
          "start_time": "2023-02-02T15:51:38.903350",
          "status": "completed"
        },
        "tags": [],
        "colab": {
          "base_uri": "https://localhost:8080/",
          "height": 74
        },
        "id": "967042a0",
        "outputId": "b87eb6e8-8351-4252-821a-fa1d5244d181"
      },
      "outputs": [
        {
          "output_type": "execute_result",
          "data": {
            "text/plain": [
              "LabelEncoder()"
            ],
            "text/html": [
              "<style>#sk-container-id-1 {color: black;background-color: white;}#sk-container-id-1 pre{padding: 0;}#sk-container-id-1 div.sk-toggleable {background-color: white;}#sk-container-id-1 label.sk-toggleable__label {cursor: pointer;display: block;width: 100%;margin-bottom: 0;padding: 0.3em;box-sizing: border-box;text-align: center;}#sk-container-id-1 label.sk-toggleable__label-arrow:before {content: \"▸\";float: left;margin-right: 0.25em;color: #696969;}#sk-container-id-1 label.sk-toggleable__label-arrow:hover:before {color: black;}#sk-container-id-1 div.sk-estimator:hover label.sk-toggleable__label-arrow:before {color: black;}#sk-container-id-1 div.sk-toggleable__content {max-height: 0;max-width: 0;overflow: hidden;text-align: left;background-color: #f0f8ff;}#sk-container-id-1 div.sk-toggleable__content pre {margin: 0.2em;color: black;border-radius: 0.25em;background-color: #f0f8ff;}#sk-container-id-1 input.sk-toggleable__control:checked~div.sk-toggleable__content {max-height: 200px;max-width: 100%;overflow: auto;}#sk-container-id-1 input.sk-toggleable__control:checked~label.sk-toggleable__label-arrow:before {content: \"▾\";}#sk-container-id-1 div.sk-estimator input.sk-toggleable__control:checked~label.sk-toggleable__label {background-color: #d4ebff;}#sk-container-id-1 div.sk-label input.sk-toggleable__control:checked~label.sk-toggleable__label {background-color: #d4ebff;}#sk-container-id-1 input.sk-hidden--visually {border: 0;clip: rect(1px 1px 1px 1px);clip: rect(1px, 1px, 1px, 1px);height: 1px;margin: -1px;overflow: hidden;padding: 0;position: absolute;width: 1px;}#sk-container-id-1 div.sk-estimator {font-family: monospace;background-color: #f0f8ff;border: 1px dotted black;border-radius: 0.25em;box-sizing: border-box;margin-bottom: 0.5em;}#sk-container-id-1 div.sk-estimator:hover {background-color: #d4ebff;}#sk-container-id-1 div.sk-parallel-item::after {content: \"\";width: 100%;border-bottom: 1px solid gray;flex-grow: 1;}#sk-container-id-1 div.sk-label:hover label.sk-toggleable__label {background-color: #d4ebff;}#sk-container-id-1 div.sk-serial::before {content: \"\";position: absolute;border-left: 1px solid gray;box-sizing: border-box;top: 0;bottom: 0;left: 50%;z-index: 0;}#sk-container-id-1 div.sk-serial {display: flex;flex-direction: column;align-items: center;background-color: white;padding-right: 0.2em;padding-left: 0.2em;position: relative;}#sk-container-id-1 div.sk-item {position: relative;z-index: 1;}#sk-container-id-1 div.sk-parallel {display: flex;align-items: stretch;justify-content: center;background-color: white;position: relative;}#sk-container-id-1 div.sk-item::before, #sk-container-id-1 div.sk-parallel-item::before {content: \"\";position: absolute;border-left: 1px solid gray;box-sizing: border-box;top: 0;bottom: 0;left: 50%;z-index: -1;}#sk-container-id-1 div.sk-parallel-item {display: flex;flex-direction: column;z-index: 1;position: relative;background-color: white;}#sk-container-id-1 div.sk-parallel-item:first-child::after {align-self: flex-end;width: 50%;}#sk-container-id-1 div.sk-parallel-item:last-child::after {align-self: flex-start;width: 50%;}#sk-container-id-1 div.sk-parallel-item:only-child::after {width: 0;}#sk-container-id-1 div.sk-dashed-wrapped {border: 1px dashed gray;margin: 0 0.4em 0.5em 0.4em;box-sizing: border-box;padding-bottom: 0.4em;background-color: white;}#sk-container-id-1 div.sk-label label {font-family: monospace;font-weight: bold;display: inline-block;line-height: 1.2em;}#sk-container-id-1 div.sk-label-container {text-align: center;}#sk-container-id-1 div.sk-container {/* jupyter's `normalize.less` sets `[hidden] { display: none; }` but bootstrap.min.css set `[hidden] { display: none !important; }` so we also need the `!important` here to be able to override the default hidden behavior on the sphinx rendered scikit-learn.org. See: https://github.com/scikit-learn/scikit-learn/issues/21755 */display: inline-block !important;position: relative;}#sk-container-id-1 div.sk-text-repr-fallback {display: none;}</style><div id=\"sk-container-id-1\" class=\"sk-top-container\"><div class=\"sk-text-repr-fallback\"><pre>LabelEncoder()</pre><b>In a Jupyter environment, please rerun this cell to show the HTML representation or trust the notebook. <br />On GitHub, the HTML representation is unable to render, please try loading this page with nbviewer.org.</b></div><div class=\"sk-container\" hidden><div class=\"sk-item\"><div class=\"sk-estimator sk-toggleable\"><input class=\"sk-toggleable__control sk-hidden--visually\" id=\"sk-estimator-id-1\" type=\"checkbox\" checked><label for=\"sk-estimator-id-1\" class=\"sk-toggleable__label sk-toggleable__label-arrow\">LabelEncoder</label><div class=\"sk-toggleable__content\"><pre>LabelEncoder()</pre></div></div></div></div></div>"
            ]
          },
          "metadata": {},
          "execution_count": 27
        }
      ],
      "source": [
        "label_encoder = LabelEncoder()\n",
        "label_encoder"
      ]
    },
    {
      "cell_type": "code",
      "execution_count": 28,
      "id": "8b061fa6",
      "metadata": {
        "papermill": {
          "duration": 0.264261,
          "end_time": "2023-02-02T15:51:39.298052",
          "exception": false,
          "start_time": "2023-02-02T15:51:39.033791",
          "status": "completed"
        },
        "tags": [],
        "colab": {
          "base_uri": "https://localhost:8080/"
        },
        "id": "8b061fa6",
        "outputId": "22e4a27b-baeb-4f3b-dc8d-27c7801574b9"
      },
      "outputs": [
        {
          "output_type": "stream",
          "name": "stdout",
          "text": [
            "<class 'pandas.core.frame.DataFrame'>\n",
            "Index: 119737 entries, 0 to 215051\n",
            "Data columns (total 7 columns):\n",
            " #   Column          Non-Null Count   Dtype  \n",
            "---  ------          --------------   -----  \n",
            " 0   App Name        119737 non-null  object \n",
            " 1   Category        119737 non-null  object \n",
            " 2   Rating          119737 non-null  float64\n",
            " 3   Rating Count    119737 non-null  float64\n",
            " 4   Price           119737 non-null  float64\n",
            " 5   Size            119737 non-null  float64\n",
            " 6   Content Rating  119737 non-null  object \n",
            "dtypes: float64(4), object(3)\n",
            "memory usage: 7.3+ MB\n"
          ]
        }
      ],
      "source": [
        "df.info()"
      ]
    },
    {
      "cell_type": "code",
      "execution_count": 29,
      "id": "7a07280a",
      "metadata": {
        "papermill": {
          "duration": 0.400503,
          "end_time": "2023-02-02T15:51:39.754498",
          "exception": false,
          "start_time": "2023-02-02T15:51:39.353995",
          "status": "completed"
        },
        "tags": [],
        "id": "7a07280a"
      },
      "outputs": [],
      "source": [
        "df[\"Category\"] = label_encoder.fit_transform(df[\"Category\"])"
      ]
    },
    {
      "cell_type": "code",
      "execution_count": 30,
      "id": "d0a7a3c8",
      "metadata": {
        "papermill": {
          "duration": 0.347038,
          "end_time": "2023-02-02T15:51:40.771144",
          "exception": false,
          "start_time": "2023-02-02T15:51:40.424106",
          "status": "completed"
        },
        "tags": [],
        "id": "d0a7a3c8"
      },
      "outputs": [],
      "source": [
        "df[\"Content Rating\"] = label_encoder.fit_transform(df[\"Content Rating\"])"
      ]
    },
    {
      "cell_type": "code",
      "execution_count": 31,
      "id": "28ec2983",
      "metadata": {
        "papermill": {
          "duration": 0.123361,
          "end_time": "2023-02-02T15:51:41.501011",
          "exception": false,
          "start_time": "2023-02-02T15:51:41.377650",
          "status": "completed"
        },
        "tags": [],
        "colab": {
          "base_uri": "https://localhost:8080/"
        },
        "id": "28ec2983",
        "outputId": "b655e2ce-f16e-4309-9447-dc0f62e84d9b"
      },
      "outputs": [
        {
          "output_type": "stream",
          "name": "stdout",
          "text": [
            "<class 'pandas.core.frame.DataFrame'>\n",
            "Index: 119737 entries, 0 to 215051\n",
            "Data columns (total 7 columns):\n",
            " #   Column          Non-Null Count   Dtype  \n",
            "---  ------          --------------   -----  \n",
            " 0   App Name        119737 non-null  object \n",
            " 1   Category        119737 non-null  int64  \n",
            " 2   Rating          119737 non-null  float64\n",
            " 3   Rating Count    119737 non-null  float64\n",
            " 4   Price           119737 non-null  float64\n",
            " 5   Size            119737 non-null  float64\n",
            " 6   Content Rating  119737 non-null  int64  \n",
            "dtypes: float64(4), int64(2), object(1)\n",
            "memory usage: 7.3+ MB\n"
          ]
        }
      ],
      "source": [
        "df.info()"
      ]
    },
    {
      "cell_type": "markdown",
      "id": "686c0a93",
      "metadata": {
        "papermill": {
          "duration": 0.061087,
          "end_time": "2023-02-02T15:51:44.157526",
          "exception": false,
          "start_time": "2023-02-02T15:51:44.096439",
          "status": "completed"
        },
        "tags": [],
        "id": "686c0a93"
      },
      "source": [
        "# DATA NORMALIZATION\n"
      ]
    },
    {
      "cell_type": "code",
      "execution_count": 32,
      "id": "40846daf",
      "metadata": {
        "papermill": {
          "duration": 0.069146,
          "end_time": "2023-02-02T15:51:44.287277",
          "exception": false,
          "start_time": "2023-02-02T15:51:44.218131",
          "status": "completed"
        },
        "tags": [],
        "id": "40846daf"
      },
      "outputs": [],
      "source": [
        "from sklearn.preprocessing import MinMaxScaler\n",
        "scaler = MinMaxScaler()"
      ]
    },
    {
      "cell_type": "code",
      "execution_count": 33,
      "id": "59615402",
      "metadata": {
        "papermill": {
          "duration": 0.249894,
          "end_time": "2023-02-02T15:51:44.597191",
          "exception": false,
          "start_time": "2023-02-02T15:51:44.347297",
          "status": "completed"
        },
        "tags": [],
        "id": "59615402"
      },
      "outputs": [],
      "source": [
        "df[[\"Rating Count\", \"Size\"]] = scaler.fit_transform(df[[\"Rating Count\", \"Size\"]])"
      ]
    },
    {
      "cell_type": "code",
      "execution_count": 34,
      "id": "f407c43d",
      "metadata": {
        "papermill": {
          "duration": 0.150822,
          "end_time": "2023-02-02T15:51:58.384888",
          "exception": false,
          "start_time": "2023-02-02T15:51:58.234066",
          "status": "completed"
        },
        "tags": [],
        "id": "f407c43d"
      },
      "outputs": [],
      "source": [
        "x = df[[\"Category\",\"Rating Count\",\"Size\",\"Content Rating\"]]\n",
        "y = df[\"Rating\"]"
      ]
    },
    {
      "cell_type": "code",
      "execution_count": 35,
      "id": "95d995b8",
      "metadata": {
        "papermill": {
          "duration": 0.096853,
          "end_time": "2023-02-02T15:51:58.542701",
          "exception": false,
          "start_time": "2023-02-02T15:51:58.445848",
          "status": "completed"
        },
        "tags": [],
        "colab": {
          "base_uri": "https://localhost:8080/",
          "height": 423
        },
        "id": "95d995b8",
        "outputId": "42ecd6bc-de70-4754-94e8-f7c17439b072"
      },
      "outputs": [
        {
          "output_type": "execute_result",
          "data": {
            "text/plain": [
              "        Category  Rating Count      Size  Content Rating\n",
              "0              1  0.000000e+00  0.006667               1\n",
              "1             42  1.756004e-06  0.001933               1\n",
              "4             42  0.000000e+00  0.004133               1\n",
              "5             39  0.000000e+00  0.030667               4\n",
              "9             31  2.249880e-05  0.002333               1\n",
              "...          ...           ...       ...             ...\n",
              "215047        39  1.920630e-07  0.023333               3\n",
              "215048         0  3.566884e-07  0.010000               1\n",
              "215049        47  1.371878e-07  0.030000               1\n",
              "215050        11  0.000000e+00  0.023333               1\n",
              "215051        37  0.000000e+00  0.009333               1\n",
              "\n",
              "[119737 rows x 4 columns]"
            ],
            "text/html": [
              "\n",
              "  <div id=\"df-db1fcdcd-fc36-4512-8e94-2bdbaa44d2f7\" class=\"colab-df-container\">\n",
              "    <div>\n",
              "<style scoped>\n",
              "    .dataframe tbody tr th:only-of-type {\n",
              "        vertical-align: middle;\n",
              "    }\n",
              "\n",
              "    .dataframe tbody tr th {\n",
              "        vertical-align: top;\n",
              "    }\n",
              "\n",
              "    .dataframe thead th {\n",
              "        text-align: right;\n",
              "    }\n",
              "</style>\n",
              "<table border=\"1\" class=\"dataframe\">\n",
              "  <thead>\n",
              "    <tr style=\"text-align: right;\">\n",
              "      <th></th>\n",
              "      <th>Category</th>\n",
              "      <th>Rating Count</th>\n",
              "      <th>Size</th>\n",
              "      <th>Content Rating</th>\n",
              "    </tr>\n",
              "  </thead>\n",
              "  <tbody>\n",
              "    <tr>\n",
              "      <th>0</th>\n",
              "      <td>1</td>\n",
              "      <td>0.000000e+00</td>\n",
              "      <td>0.006667</td>\n",
              "      <td>1</td>\n",
              "    </tr>\n",
              "    <tr>\n",
              "      <th>1</th>\n",
              "      <td>42</td>\n",
              "      <td>1.756004e-06</td>\n",
              "      <td>0.001933</td>\n",
              "      <td>1</td>\n",
              "    </tr>\n",
              "    <tr>\n",
              "      <th>4</th>\n",
              "      <td>42</td>\n",
              "      <td>0.000000e+00</td>\n",
              "      <td>0.004133</td>\n",
              "      <td>1</td>\n",
              "    </tr>\n",
              "    <tr>\n",
              "      <th>5</th>\n",
              "      <td>39</td>\n",
              "      <td>0.000000e+00</td>\n",
              "      <td>0.030667</td>\n",
              "      <td>4</td>\n",
              "    </tr>\n",
              "    <tr>\n",
              "      <th>9</th>\n",
              "      <td>31</td>\n",
              "      <td>2.249880e-05</td>\n",
              "      <td>0.002333</td>\n",
              "      <td>1</td>\n",
              "    </tr>\n",
              "    <tr>\n",
              "      <th>...</th>\n",
              "      <td>...</td>\n",
              "      <td>...</td>\n",
              "      <td>...</td>\n",
              "      <td>...</td>\n",
              "    </tr>\n",
              "    <tr>\n",
              "      <th>215047</th>\n",
              "      <td>39</td>\n",
              "      <td>1.920630e-07</td>\n",
              "      <td>0.023333</td>\n",
              "      <td>3</td>\n",
              "    </tr>\n",
              "    <tr>\n",
              "      <th>215048</th>\n",
              "      <td>0</td>\n",
              "      <td>3.566884e-07</td>\n",
              "      <td>0.010000</td>\n",
              "      <td>1</td>\n",
              "    </tr>\n",
              "    <tr>\n",
              "      <th>215049</th>\n",
              "      <td>47</td>\n",
              "      <td>1.371878e-07</td>\n",
              "      <td>0.030000</td>\n",
              "      <td>1</td>\n",
              "    </tr>\n",
              "    <tr>\n",
              "      <th>215050</th>\n",
              "      <td>11</td>\n",
              "      <td>0.000000e+00</td>\n",
              "      <td>0.023333</td>\n",
              "      <td>1</td>\n",
              "    </tr>\n",
              "    <tr>\n",
              "      <th>215051</th>\n",
              "      <td>37</td>\n",
              "      <td>0.000000e+00</td>\n",
              "      <td>0.009333</td>\n",
              "      <td>1</td>\n",
              "    </tr>\n",
              "  </tbody>\n",
              "</table>\n",
              "<p>119737 rows × 4 columns</p>\n",
              "</div>\n",
              "    <div class=\"colab-df-buttons\">\n",
              "\n",
              "  <div class=\"colab-df-container\">\n",
              "    <button class=\"colab-df-convert\" onclick=\"convertToInteractive('df-db1fcdcd-fc36-4512-8e94-2bdbaa44d2f7')\"\n",
              "            title=\"Convert this dataframe to an interactive table.\"\n",
              "            style=\"display:none;\">\n",
              "\n",
              "  <svg xmlns=\"http://www.w3.org/2000/svg\" height=\"24px\" viewBox=\"0 -960 960 960\">\n",
              "    <path d=\"M120-120v-720h720v720H120Zm60-500h600v-160H180v160Zm220 220h160v-160H400v160Zm0 220h160v-160H400v160ZM180-400h160v-160H180v160Zm440 0h160v-160H620v160ZM180-180h160v-160H180v160Zm440 0h160v-160H620v160Z\"/>\n",
              "  </svg>\n",
              "    </button>\n",
              "\n",
              "  <style>\n",
              "    .colab-df-container {\n",
              "      display:flex;\n",
              "      gap: 12px;\n",
              "    }\n",
              "\n",
              "    .colab-df-convert {\n",
              "      background-color: #E8F0FE;\n",
              "      border: none;\n",
              "      border-radius: 50%;\n",
              "      cursor: pointer;\n",
              "      display: none;\n",
              "      fill: #1967D2;\n",
              "      height: 32px;\n",
              "      padding: 0 0 0 0;\n",
              "      width: 32px;\n",
              "    }\n",
              "\n",
              "    .colab-df-convert:hover {\n",
              "      background-color: #E2EBFA;\n",
              "      box-shadow: 0px 1px 2px rgba(60, 64, 67, 0.3), 0px 1px 3px 1px rgba(60, 64, 67, 0.15);\n",
              "      fill: #174EA6;\n",
              "    }\n",
              "\n",
              "    .colab-df-buttons div {\n",
              "      margin-bottom: 4px;\n",
              "    }\n",
              "\n",
              "    [theme=dark] .colab-df-convert {\n",
              "      background-color: #3B4455;\n",
              "      fill: #D2E3FC;\n",
              "    }\n",
              "\n",
              "    [theme=dark] .colab-df-convert:hover {\n",
              "      background-color: #434B5C;\n",
              "      box-shadow: 0px 1px 3px 1px rgba(0, 0, 0, 0.15);\n",
              "      filter: drop-shadow(0px 1px 2px rgba(0, 0, 0, 0.3));\n",
              "      fill: #FFFFFF;\n",
              "    }\n",
              "  </style>\n",
              "\n",
              "    <script>\n",
              "      const buttonEl =\n",
              "        document.querySelector('#df-db1fcdcd-fc36-4512-8e94-2bdbaa44d2f7 button.colab-df-convert');\n",
              "      buttonEl.style.display =\n",
              "        google.colab.kernel.accessAllowed ? 'block' : 'none';\n",
              "\n",
              "      async function convertToInteractive(key) {\n",
              "        const element = document.querySelector('#df-db1fcdcd-fc36-4512-8e94-2bdbaa44d2f7');\n",
              "        const dataTable =\n",
              "          await google.colab.kernel.invokeFunction('convertToInteractive',\n",
              "                                                    [key], {});\n",
              "        if (!dataTable) return;\n",
              "\n",
              "        const docLinkHtml = 'Like what you see? Visit the ' +\n",
              "          '<a target=\"_blank\" href=https://colab.research.google.com/notebooks/data_table.ipynb>data table notebook</a>'\n",
              "          + ' to learn more about interactive tables.';\n",
              "        element.innerHTML = '';\n",
              "        dataTable['output_type'] = 'display_data';\n",
              "        await google.colab.output.renderOutput(dataTable, element);\n",
              "        const docLink = document.createElement('div');\n",
              "        docLink.innerHTML = docLinkHtml;\n",
              "        element.appendChild(docLink);\n",
              "      }\n",
              "    </script>\n",
              "  </div>\n",
              "\n",
              "\n",
              "<div id=\"df-ade078ab-09e7-4d05-81d1-cfc973007d61\">\n",
              "  <button class=\"colab-df-quickchart\" onclick=\"quickchart('df-ade078ab-09e7-4d05-81d1-cfc973007d61')\"\n",
              "            title=\"Suggest charts\"\n",
              "            style=\"display:none;\">\n",
              "\n",
              "<svg xmlns=\"http://www.w3.org/2000/svg\" height=\"24px\"viewBox=\"0 0 24 24\"\n",
              "     width=\"24px\">\n",
              "    <g>\n",
              "        <path d=\"M19 3H5c-1.1 0-2 .9-2 2v14c0 1.1.9 2 2 2h14c1.1 0 2-.9 2-2V5c0-1.1-.9-2-2-2zM9 17H7v-7h2v7zm4 0h-2V7h2v10zm4 0h-2v-4h2v4z\"/>\n",
              "    </g>\n",
              "</svg>\n",
              "  </button>\n",
              "\n",
              "<style>\n",
              "  .colab-df-quickchart {\n",
              "      --bg-color: #E8F0FE;\n",
              "      --fill-color: #1967D2;\n",
              "      --hover-bg-color: #E2EBFA;\n",
              "      --hover-fill-color: #174EA6;\n",
              "      --disabled-fill-color: #AAA;\n",
              "      --disabled-bg-color: #DDD;\n",
              "  }\n",
              "\n",
              "  [theme=dark] .colab-df-quickchart {\n",
              "      --bg-color: #3B4455;\n",
              "      --fill-color: #D2E3FC;\n",
              "      --hover-bg-color: #434B5C;\n",
              "      --hover-fill-color: #FFFFFF;\n",
              "      --disabled-bg-color: #3B4455;\n",
              "      --disabled-fill-color: #666;\n",
              "  }\n",
              "\n",
              "  .colab-df-quickchart {\n",
              "    background-color: var(--bg-color);\n",
              "    border: none;\n",
              "    border-radius: 50%;\n",
              "    cursor: pointer;\n",
              "    display: none;\n",
              "    fill: var(--fill-color);\n",
              "    height: 32px;\n",
              "    padding: 0;\n",
              "    width: 32px;\n",
              "  }\n",
              "\n",
              "  .colab-df-quickchart:hover {\n",
              "    background-color: var(--hover-bg-color);\n",
              "    box-shadow: 0 1px 2px rgba(60, 64, 67, 0.3), 0 1px 3px 1px rgba(60, 64, 67, 0.15);\n",
              "    fill: var(--button-hover-fill-color);\n",
              "  }\n",
              "\n",
              "  .colab-df-quickchart-complete:disabled,\n",
              "  .colab-df-quickchart-complete:disabled:hover {\n",
              "    background-color: var(--disabled-bg-color);\n",
              "    fill: var(--disabled-fill-color);\n",
              "    box-shadow: none;\n",
              "  }\n",
              "\n",
              "  .colab-df-spinner {\n",
              "    border: 2px solid var(--fill-color);\n",
              "    border-color: transparent;\n",
              "    border-bottom-color: var(--fill-color);\n",
              "    animation:\n",
              "      spin 1s steps(1) infinite;\n",
              "  }\n",
              "\n",
              "  @keyframes spin {\n",
              "    0% {\n",
              "      border-color: transparent;\n",
              "      border-bottom-color: var(--fill-color);\n",
              "      border-left-color: var(--fill-color);\n",
              "    }\n",
              "    20% {\n",
              "      border-color: transparent;\n",
              "      border-left-color: var(--fill-color);\n",
              "      border-top-color: var(--fill-color);\n",
              "    }\n",
              "    30% {\n",
              "      border-color: transparent;\n",
              "      border-left-color: var(--fill-color);\n",
              "      border-top-color: var(--fill-color);\n",
              "      border-right-color: var(--fill-color);\n",
              "    }\n",
              "    40% {\n",
              "      border-color: transparent;\n",
              "      border-right-color: var(--fill-color);\n",
              "      border-top-color: var(--fill-color);\n",
              "    }\n",
              "    60% {\n",
              "      border-color: transparent;\n",
              "      border-right-color: var(--fill-color);\n",
              "    }\n",
              "    80% {\n",
              "      border-color: transparent;\n",
              "      border-right-color: var(--fill-color);\n",
              "      border-bottom-color: var(--fill-color);\n",
              "    }\n",
              "    90% {\n",
              "      border-color: transparent;\n",
              "      border-bottom-color: var(--fill-color);\n",
              "    }\n",
              "  }\n",
              "</style>\n",
              "\n",
              "  <script>\n",
              "    async function quickchart(key) {\n",
              "      const quickchartButtonEl =\n",
              "        document.querySelector('#' + key + ' button');\n",
              "      quickchartButtonEl.disabled = true;  // To prevent multiple clicks.\n",
              "      quickchartButtonEl.classList.add('colab-df-spinner');\n",
              "      try {\n",
              "        const charts = await google.colab.kernel.invokeFunction(\n",
              "            'suggestCharts', [key], {});\n",
              "      } catch (error) {\n",
              "        console.error('Error during call to suggestCharts:', error);\n",
              "      }\n",
              "      quickchartButtonEl.classList.remove('colab-df-spinner');\n",
              "      quickchartButtonEl.classList.add('colab-df-quickchart-complete');\n",
              "    }\n",
              "    (() => {\n",
              "      let quickchartButtonEl =\n",
              "        document.querySelector('#df-ade078ab-09e7-4d05-81d1-cfc973007d61 button');\n",
              "      quickchartButtonEl.style.display =\n",
              "        google.colab.kernel.accessAllowed ? 'block' : 'none';\n",
              "    })();\n",
              "  </script>\n",
              "</div>\n",
              "\n",
              "  <div id=\"id_689bad7e-939a-499c-8d28-9910c632efc0\">\n",
              "    <style>\n",
              "      .colab-df-generate {\n",
              "        background-color: #E8F0FE;\n",
              "        border: none;\n",
              "        border-radius: 50%;\n",
              "        cursor: pointer;\n",
              "        display: none;\n",
              "        fill: #1967D2;\n",
              "        height: 32px;\n",
              "        padding: 0 0 0 0;\n",
              "        width: 32px;\n",
              "      }\n",
              "\n",
              "      .colab-df-generate:hover {\n",
              "        background-color: #E2EBFA;\n",
              "        box-shadow: 0px 1px 2px rgba(60, 64, 67, 0.3), 0px 1px 3px 1px rgba(60, 64, 67, 0.15);\n",
              "        fill: #174EA6;\n",
              "      }\n",
              "\n",
              "      [theme=dark] .colab-df-generate {\n",
              "        background-color: #3B4455;\n",
              "        fill: #D2E3FC;\n",
              "      }\n",
              "\n",
              "      [theme=dark] .colab-df-generate:hover {\n",
              "        background-color: #434B5C;\n",
              "        box-shadow: 0px 1px 3px 1px rgba(0, 0, 0, 0.15);\n",
              "        filter: drop-shadow(0px 1px 2px rgba(0, 0, 0, 0.3));\n",
              "        fill: #FFFFFF;\n",
              "      }\n",
              "    </style>\n",
              "    <button class=\"colab-df-generate\" onclick=\"generateWithVariable('x')\"\n",
              "            title=\"Generate code using this dataframe.\"\n",
              "            style=\"display:none;\">\n",
              "\n",
              "  <svg xmlns=\"http://www.w3.org/2000/svg\" height=\"24px\"viewBox=\"0 0 24 24\"\n",
              "       width=\"24px\">\n",
              "    <path d=\"M7,19H8.4L18.45,9,17,7.55,7,17.6ZM5,21V16.75L18.45,3.32a2,2,0,0,1,2.83,0l1.4,1.43a1.91,1.91,0,0,1,.58,1.4,1.91,1.91,0,0,1-.58,1.4L9.25,21ZM18.45,9,17,7.55Zm-12,3A5.31,5.31,0,0,0,4.9,8.1,5.31,5.31,0,0,0,1,6.5,5.31,5.31,0,0,0,4.9,4.9,5.31,5.31,0,0,0,6.5,1,5.31,5.31,0,0,0,8.1,4.9,5.31,5.31,0,0,0,12,6.5,5.46,5.46,0,0,0,6.5,12Z\"/>\n",
              "  </svg>\n",
              "    </button>\n",
              "    <script>\n",
              "      (() => {\n",
              "      const buttonEl =\n",
              "        document.querySelector('#id_689bad7e-939a-499c-8d28-9910c632efc0 button.colab-df-generate');\n",
              "      buttonEl.style.display =\n",
              "        google.colab.kernel.accessAllowed ? 'block' : 'none';\n",
              "\n",
              "      buttonEl.onclick = () => {\n",
              "        google.colab.notebook.generateWithVariable('x');\n",
              "      }\n",
              "      })();\n",
              "    </script>\n",
              "  </div>\n",
              "\n",
              "    </div>\n",
              "  </div>\n"
            ],
            "application/vnd.google.colaboratory.intrinsic+json": {
              "type": "dataframe",
              "variable_name": "x"
            }
          },
          "metadata": {},
          "execution_count": 35
        }
      ],
      "source": [
        "x"
      ]
    },
    {
      "cell_type": "code",
      "execution_count": 36,
      "id": "eee21bb4",
      "metadata": {
        "papermill": {
          "duration": 0.150354,
          "end_time": "2023-02-02T15:51:58.753813",
          "exception": false,
          "start_time": "2023-02-02T15:51:58.603459",
          "status": "completed"
        },
        "tags": [],
        "id": "eee21bb4"
      },
      "outputs": [],
      "source": [
        "from sklearn.model_selection import train_test_split"
      ]
    },
    {
      "cell_type": "code",
      "execution_count": 37,
      "id": "a22c9635",
      "metadata": {
        "papermill": {
          "duration": 0.60673,
          "end_time": "2023-02-02T15:51:59.424488",
          "exception": false,
          "start_time": "2023-02-02T15:51:58.817758",
          "status": "completed"
        },
        "tags": [],
        "id": "a22c9635"
      },
      "outputs": [],
      "source": [
        "x_train, x_test, y_train,y_test = train_test_split(x,y,test_size = 0.3, shuffle=True, random_state = 2332)"
      ]
    },
    {
      "cell_type": "markdown",
      "id": "e51895d2",
      "metadata": {
        "papermill": {
          "duration": 0.06322,
          "end_time": "2023-02-02T15:51:59.715363",
          "exception": false,
          "start_time": "2023-02-02T15:51:59.652143",
          "status": "completed"
        },
        "tags": [],
        "id": "e51895d2"
      },
      "source": [
        "# MODEL TRANING"
      ]
    },
    {
      "cell_type": "markdown",
      "id": "79a3924b",
      "metadata": {
        "papermill": {
          "duration": 0.0654,
          "end_time": "2023-02-02T15:51:59.842513",
          "exception": false,
          "start_time": "2023-02-02T15:51:59.777113",
          "status": "completed"
        },
        "tags": [],
        "id": "79a3924b"
      },
      "source": [
        "## Regression"
      ]
    },
    {
      "cell_type": "code",
      "execution_count": 38,
      "id": "6cb9006b",
      "metadata": {
        "papermill": {
          "duration": 0.199227,
          "end_time": "2023-02-02T15:52:00.105862",
          "exception": false,
          "start_time": "2023-02-02T15:51:59.906635",
          "status": "completed"
        },
        "tags": [],
        "id": "6cb9006b"
      },
      "outputs": [],
      "source": [
        "from sklearn.linear_model import LinearRegression\n",
        "from sklearn.metrics import mean_squared_error"
      ]
    },
    {
      "cell_type": "code",
      "execution_count": 39,
      "id": "7c14c362",
      "metadata": {
        "papermill": {
          "duration": 0.761282,
          "end_time": "2023-02-02T15:52:00.931349",
          "exception": false,
          "start_time": "2023-02-02T15:52:00.170067",
          "status": "completed"
        },
        "tags": [],
        "colab": {
          "base_uri": "https://localhost:8080/"
        },
        "id": "7c14c362",
        "outputId": "1d565663-a2e5-49f6-c009-4c7691aa3242"
      },
      "outputs": [
        {
          "output_type": "execute_result",
          "data": {
            "text/plain": [
              "4.334944659325631"
            ]
          },
          "metadata": {},
          "execution_count": 39
        }
      ],
      "source": [
        "rgr = LinearRegression()\n",
        "rgr.fit(x_train,y_train)\n",
        "y_pred = rgr.predict(x_test)\n",
        "mean_squared_error(y_test, y_pred)"
      ]
    },
    {
      "cell_type": "code",
      "execution_count": 40,
      "id": "92eb267f",
      "metadata": {
        "papermill": {
          "duration": 0.266287,
          "end_time": "2023-02-02T15:52:01.324552",
          "exception": false,
          "start_time": "2023-02-02T15:52:01.058265",
          "status": "completed"
        },
        "tags": [],
        "id": "92eb267f"
      },
      "outputs": [],
      "source": [
        "from sklearn.ensemble import RandomForestRegressor"
      ]
    },
    {
      "cell_type": "code",
      "execution_count": 41,
      "id": "9a2d8d53",
      "metadata": {
        "papermill": {
          "duration": 1053.821674,
          "end_time": "2023-02-02T16:09:35.208236",
          "exception": false,
          "start_time": "2023-02-02T15:52:01.386562",
          "status": "completed"
        },
        "tags": [],
        "colab": {
          "base_uri": "https://localhost:8080/"
        },
        "id": "9a2d8d53",
        "outputId": "9eb4176d-7ac4-43a9-d04a-63efc8e33340"
      },
      "outputs": [
        {
          "output_type": "execute_result",
          "data": {
            "text/plain": [
              "0.30531161875900376"
            ]
          },
          "metadata": {},
          "execution_count": 41
        }
      ],
      "source": [
        "rgr = RandomForestRegressor(n_estimators=121)\n",
        "rgr.fit(x_train,y_train)\n",
        "y_pred = rgr.predict(x_test)\n",
        "mean_squared_error(y_test, y_pred)"
      ]
    },
    {
      "cell_type": "markdown",
      "id": "6a09c601",
      "metadata": {
        "papermill": {
          "duration": 0.062668,
          "end_time": "2023-02-02T16:09:35.342099",
          "exception": false,
          "start_time": "2023-02-02T16:09:35.279431",
          "status": "completed"
        },
        "tags": [],
        "id": "6a09c601"
      },
      "source": [
        "## Classification"
      ]
    },
    {
      "cell_type": "code",
      "execution_count": 42,
      "id": "8e42b0b9",
      "metadata": {
        "papermill": {
          "duration": 0.076251,
          "end_time": "2023-02-02T16:09:35.625712",
          "exception": false,
          "start_time": "2023-02-02T16:09:35.549461",
          "status": "completed"
        },
        "tags": [],
        "id": "8e42b0b9"
      },
      "outputs": [],
      "source": [
        "from sklearn.linear_model import LogisticRegression\n",
        "from sklearn.metrics import classification_report"
      ]
    },
    {
      "cell_type": "code",
      "execution_count": 43,
      "id": "646f0d78",
      "metadata": {
        "papermill": {
          "duration": 0.07363,
          "end_time": "2023-02-02T16:09:35.763327",
          "exception": false,
          "start_time": "2023-02-02T16:09:35.689697",
          "status": "completed"
        },
        "tags": [],
        "id": "646f0d78"
      },
      "outputs": [],
      "source": [
        "def classEncoder(x):\n",
        "    if x < 3.0:\n",
        "        return 0 #low\n",
        "    elif x >= 3.0 and x < 4.3:\n",
        "        return 1 #medium\n",
        "    else:\n",
        "        return 2"
      ]
    },
    {
      "cell_type": "code",
      "execution_count": 44,
      "id": "efcfb8a3",
      "metadata": {
        "papermill": {
          "duration": 0.653778,
          "end_time": "2023-02-02T16:09:36.477706",
          "exception": false,
          "start_time": "2023-02-02T16:09:35.823928",
          "status": "completed"
        },
        "tags": [],
        "id": "efcfb8a3"
      },
      "outputs": [],
      "source": [
        "y_train = y_train.apply(classEncoder)\n",
        "y_test = y_test.apply(classEncoder)"
      ]
    },
    {
      "cell_type": "code",
      "execution_count": 45,
      "id": "eb4a4b3f",
      "metadata": {
        "papermill": {
          "duration": 20.507097,
          "end_time": "2023-02-02T16:09:57.044938",
          "exception": false,
          "start_time": "2023-02-02T16:09:36.537841",
          "status": "completed"
        },
        "tags": [],
        "colab": {
          "base_uri": "https://localhost:8080/"
        },
        "id": "eb4a4b3f",
        "outputId": "9417bc4a-c833-4bf6-b481-99a56da23ed5"
      },
      "outputs": [
        {
          "output_type": "stream",
          "name": "stdout",
          "text": [
            "              precision    recall  f1-score   support\n",
            "\n",
            "           0       1.00      0.48      0.65     35717\n",
            "           1       0.01      0.40      0.02       205\n",
            "           2       0.00      0.00      0.00         0\n",
            "\n",
            "    accuracy                           0.48     35922\n",
            "   macro avg       0.34      0.29      0.22     35922\n",
            "weighted avg       0.99      0.48      0.64     35922\n",
            "\n"
          ]
        },
        {
          "output_type": "stream",
          "name": "stderr",
          "text": [
            "/usr/local/lib/python3.10/dist-packages/sklearn/linear_model/_logistic.py:458: ConvergenceWarning: lbfgs failed to converge (status=1):\n",
            "STOP: TOTAL NO. of ITERATIONS REACHED LIMIT.\n",
            "\n",
            "Increase the number of iterations (max_iter) or scale the data as shown in:\n",
            "    https://scikit-learn.org/stable/modules/preprocessing.html\n",
            "Please also refer to the documentation for alternative solver options:\n",
            "    https://scikit-learn.org/stable/modules/linear_model.html#logistic-regression\n",
            "  n_iter_i = _check_optimize_result(\n",
            "/usr/local/lib/python3.10/dist-packages/sklearn/metrics/_classification.py:1344: UndefinedMetricWarning: Recall and F-score are ill-defined and being set to 0.0 in labels with no true samples. Use `zero_division` parameter to control this behavior.\n",
            "  _warn_prf(average, modifier, msg_start, len(result))\n",
            "/usr/local/lib/python3.10/dist-packages/sklearn/metrics/_classification.py:1344: UndefinedMetricWarning: Recall and F-score are ill-defined and being set to 0.0 in labels with no true samples. Use `zero_division` parameter to control this behavior.\n",
            "  _warn_prf(average, modifier, msg_start, len(result))\n",
            "/usr/local/lib/python3.10/dist-packages/sklearn/metrics/_classification.py:1344: UndefinedMetricWarning: Recall and F-score are ill-defined and being set to 0.0 in labels with no true samples. Use `zero_division` parameter to control this behavior.\n",
            "  _warn_prf(average, modifier, msg_start, len(result))\n"
          ]
        }
      ],
      "source": [
        "clf = LogisticRegression()\n",
        "clf.fit(x_train,y_train)\n",
        "y_pred = clf.predict(x_test)\n",
        "print(classification_report(y_pred, y_test))"
      ]
    },
    {
      "cell_type": "code",
      "execution_count": 46,
      "id": "895936af",
      "metadata": {
        "papermill": {
          "duration": 0.076053,
          "end_time": "2023-02-02T16:09:57.186581",
          "exception": false,
          "start_time": "2023-02-02T16:09:57.110528",
          "status": "completed"
        },
        "tags": [],
        "id": "895936af"
      },
      "outputs": [],
      "source": [
        "from sklearn.ensemble import RandomForestClassifier"
      ]
    },
    {
      "cell_type": "code",
      "execution_count": 47,
      "id": "72e8e185",
      "metadata": {
        "papermill": {
          "duration": 428.214452,
          "end_time": "2023-02-02T16:17:05.464316",
          "exception": false,
          "start_time": "2023-02-02T16:09:57.249864",
          "status": "completed"
        },
        "tags": [],
        "colab": {
          "base_uri": "https://localhost:8080/"
        },
        "id": "72e8e185",
        "outputId": "31426220-3e63-435c-f6e2-042cd5ce9429"
      },
      "outputs": [
        {
          "output_type": "stream",
          "name": "stdout",
          "text": [
            "              precision    recall  f1-score   support\n",
            "\n",
            "           0       0.92      0.98      0.95     15933\n",
            "           1       0.51      0.51      0.51      9231\n",
            "           2       0.60      0.54      0.57     10758\n",
            "\n",
            "    accuracy                           0.73     35922\n",
            "   macro avg       0.68      0.68      0.68     35922\n",
            "weighted avg       0.72      0.73      0.72     35922\n",
            "\n"
          ]
        }
      ],
      "source": [
        "clf = RandomForestClassifier()\n",
        "clf.fit(x_train,y_train)\n",
        "y_pred = clf.predict(x_test)\n",
        "print(classification_report(y_pred, y_test))"
      ]
    },
    {
      "cell_type": "code",
      "execution_count": 48,
      "id": "12ece1f1",
      "metadata": {
        "papermill": {
          "duration": 0.101757,
          "end_time": "2023-02-02T16:17:05.629958",
          "exception": false,
          "start_time": "2023-02-02T16:17:05.528201",
          "status": "completed"
        },
        "tags": [],
        "colab": {
          "base_uri": "https://localhost:8080/"
        },
        "id": "12ece1f1",
        "outputId": "d9546e2f-6b6a-445f-9c38-4f8ec4d34b03"
      },
      "outputs": [
        {
          "output_type": "execute_result",
          "data": {
            "text/plain": [
              "(array([0, 1, 2]), array([39576, 21634, 22605]))"
            ]
          },
          "metadata": {},
          "execution_count": 48
        }
      ],
      "source": [
        "np.unique(y_train, return_counts=True)"
      ]
    },
    {
      "cell_type": "code",
      "execution_count": null,
      "id": "9edf2862-e72f-4bce-b2cb-6b7370b6ddf5",
      "metadata": {
        "id": "9edf2862-e72f-4bce-b2cb-6b7370b6ddf5"
      },
      "outputs": [],
      "source": []
    }
  ],
  "metadata": {
    "kernelspec": {
      "display_name": "Python 3 (ipykernel)",
      "language": "python",
      "name": "python3"
    },
    "language_info": {
      "codemirror_mode": {
        "name": "ipython",
        "version": 3
      },
      "file_extension": ".py",
      "mimetype": "text/x-python",
      "name": "python",
      "nbconvert_exporter": "python",
      "pygments_lexer": "ipython3",
      "version": "3.11.7"
    },
    "papermill": {
      "default_parameters": {},
      "duration": 2251.390151,
      "end_time": "2023-02-02T16:17:08.425468",
      "environment_variables": {},
      "exception": null,
      "input_path": "__notebook__.ipynb",
      "output_path": "__notebook__.ipynb",
      "parameters": {},
      "start_time": "2023-02-02T15:39:37.035317",
      "version": "2.3.4"
    },
    "colab": {
      "provenance": []
    }
  },
  "nbformat": 4,
  "nbformat_minor": 5
}